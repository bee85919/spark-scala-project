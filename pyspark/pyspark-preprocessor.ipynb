{
 "cells": [
  {
   "cell_type": "code",
   "execution_count": 33,
   "id": "fdc8806c-0abe-4fae-98b0-2d661c3fa8cf",
   "metadata": {},
   "outputs": [],
   "source": [
    "from functools import reduce\n",
    "from pyspark.sql import SparkSession, Row\n",
    "from pyspark.sql.types import StructType, StructField, StringType\n",
    "from pyspark.sql.functions import col, coalesce, split, regexp_replace, when, length, get_json_object, explode"
   ]
  },
  {
   "cell_type": "code",
   "execution_count": 34,
   "id": "d7d8ef68-f9da-4f00-aeeb-87ebf0f25e2e",
   "metadata": {},
   "outputs": [],
   "source": [
    "spark = SparkSession.builder \\\n",
    "    .appName(\"medi_test\") \\\n",
    "    .getOrCreate()"
   ]
  },
  {
   "cell_type": "code",
   "execution_count": 35,
   "id": "159998b4-e825-4007-add6-96df728a16d7",
   "metadata": {},
   "outputs": [],
   "source": [
    "root_path = '/Users/b06/Desktop/yeardream/medi-05'\n",
    "json_root_path = f'{root_path}/data/naverplace_meta'\n",
    "save_root_path = f'{root_path}/spark-scala-project/output/pyspark'\n",
    "text_root_path = f'{root_path}/spark-scala-project/test.txt'"
   ]
  },
  {
   "cell_type": "code",
   "execution_count": 36,
   "id": "3c81d50f-a422-4c78-8ae6-a6c7aab95d1a",
   "metadata": {},
   "outputs": [],
   "source": [
    "chunk_size = 100\n",
    "test_json_path = f'{json_root_path}/naverplace_meta_1.json'"
   ]
  },
  {
   "cell_type": "code",
   "execution_count": 37,
   "id": "0b361322-2f32-43a2-8239-f5744a183f8c",
   "metadata": {},
   "outputs": [],
   "source": [
    "# df = spark.read.option(\"multiline\", \"true\").json('/Users/b06/Desktop/yeardream/medi-05/data/test/naverplace_meta_1.json')\n",
    "df = spark.read.option(\"multiline\", \"true\").json('/Users/b06/Desktop/yeardream/medi-05/data/test.json')"
   ]
  },
  {
   "cell_type": "code",
   "execution_count": 38,
   "id": "aafde63d-ebd2-47ce-b816-761fc437deca",
   "metadata": {},
   "outputs": [
    {
     "name": "stdout",
     "output_type": "stream",
     "text": [
      "+---------------------+--------------------+\n",
      "|             Hospital|            Panorama|\n",
      "+---------------------+--------------------+\n",
      "|[{HospitalBase, 청...|[{Panorama, W1EwJ...|\n",
      "+---------------------+--------------------+\n",
      "\n"
     ]
    }
   ],
   "source": [
    "df.show()"
   ]
  },
  {
   "cell_type": "code",
   "execution_count": 39,
   "id": "7cc05671-2ea6-4efb-a39d-5276ef8dc219",
   "metadata": {},
   "outputs": [],
   "source": [
    "df1 = df.select(explode(\"Hospital\"))"
   ]
  },
  {
   "cell_type": "code",
   "execution_count": 40,
   "id": "2b252c1e-6ce9-429c-b5b6-a7076d38bfbc",
   "metadata": {},
   "outputs": [
    {
     "name": "stdout",
     "output_type": "stream",
     "text": [
      "root\n",
      " |-- col: struct (nullable = true)\n",
      " |    |-- __typename: string (nullable = true)\n",
      " |    |-- address: string (nullable = true)\n",
      " |    |-- bookingBusinessId: string (nullable = true)\n",
      " |    |-- bookingButtonName: string (nullable = true)\n",
      " |    |-- bookingDisplayName: string (nullable = true)\n",
      " |    |-- bookingHubButtonName: string (nullable = true)\n",
      " |    |-- broadcastInfos: string (nullable = true)\n",
      " |    |-- businessHours: array (nullable = true)\n",
      " |    |    |-- element: struct (containsNull = true)\n",
      " |    |    |    |-- __typename: string (nullable = true)\n",
      " |    |    |    |-- day: string (nullable = true)\n",
      " |    |    |    |-- description: string (nullable = true)\n",
      " |    |    |    |-- endTime: string (nullable = true)\n",
      " |    |    |    |-- hourString: string (nullable = true)\n",
      " |    |    |    |-- index: long (nullable = true)\n",
      " |    |    |    |-- isDayOff: boolean (nullable = true)\n",
      " |    |    |    |-- startTime: string (nullable = true)\n",
      " |    |-- category: string (nullable = true)\n",
      " |    |-- categoryCode: string (nullable = true)\n",
      " |    |-- categoryCodeList: array (nullable = true)\n",
      " |    |    |-- element: string (containsNull = true)\n",
      " |    |-- categoryCount: long (nullable = true)\n",
      " |    |-- cescoCheck: string (nullable = true)\n",
      " |    |-- cescoLink: string (nullable = true)\n",
      " |    |-- cescofsCheck: string (nullable = true)\n",
      " |    |-- cescofsLink: string (nullable = true)\n",
      " |    |-- chatBotUrl: string (nullable = true)\n",
      " |    |-- conveniences: array (nullable = true)\n",
      " |    |    |-- element: string (containsNull = true)\n",
      " |    |-- coordinate: struct (nullable = true)\n",
      " |    |    |-- __typename: string (nullable = true)\n",
      " |    |    |-- mapZoomLevel: long (nullable = true)\n",
      " |    |    |-- x: double (nullable = true)\n",
      " |    |    |-- y: double (nullable = true)\n",
      " |    |-- coronaTreatmentTelNo: string (nullable = true)\n",
      " |    |-- defaultCategoryCodeList: array (nullable = true)\n",
      " |    |    |-- element: string (containsNull = true)\n",
      " |    |-- description: string (nullable = true)\n",
      " |    |-- detailPath: string (nullable = true)\n",
      " |    |-- generalHospital: string (nullable = true)\n",
      " |    |-- giftCards: string (nullable = true)\n",
      " |    |-- gifticonId: string (nullable = true)\n",
      " |    |-- gifticonMoreUrl: string (nullable = true)\n",
      " |    |-- hasCoronaMedicalCenter: boolean (nullable = true)\n",
      " |    |-- hasOfficialImages: boolean (nullable = true)\n",
      " |    |-- homepages: struct (nullable = true)\n",
      " |    |    |-- __typename: string (nullable = true)\n",
      " |    |    |-- etc: array (nullable = true)\n",
      " |    |    |    |-- element: struct (containsNull = true)\n",
      " |    |    |    |    |-- __typename: string (nullable = true)\n",
      " |    |    |    |    |-- isDeadUrl: boolean (nullable = true)\n",
      " |    |    |    |    |-- isRep: string (nullable = true)\n",
      " |    |    |    |    |-- landingUrl: string (nullable = true)\n",
      " |    |    |    |    |-- order: long (nullable = true)\n",
      " |    |    |    |    |-- type: string (nullable = true)\n",
      " |    |    |    |    |-- url: string (nullable = true)\n",
      " |    |    |-- repr: struct (nullable = true)\n",
      " |    |    |    |-- __typename: string (nullable = true)\n",
      " |    |    |    |-- isDeadUrl: boolean (nullable = true)\n",
      " |    |    |    |-- isRep: string (nullable = true)\n",
      " |    |    |    |-- landingUrl: string (nullable = true)\n",
      " |    |    |    |-- order: long (nullable = true)\n",
      " |    |    |    |-- type: string (nullable = true)\n",
      " |    |    |    |-- url: string (nullable = true)\n",
      " |    |-- id: string (nullable = true)\n",
      " |    |-- images: array (nullable = true)\n",
      " |    |    |-- element: struct (containsNull = true)\n",
      " |    |    |    |-- __typename: string (nullable = true)\n",
      " |    |    |    |-- desc: string (nullable = true)\n",
      " |    |    |    |-- height: long (nullable = true)\n",
      " |    |    |    |-- infoTitle: string (nullable = true)\n",
      " |    |    |    |-- number: string (nullable = true)\n",
      " |    |    |    |-- origin: string (nullable = true)\n",
      " |    |    |    |-- source: string (nullable = true)\n",
      " |    |    |    |-- url: string (nullable = true)\n",
      " |    |    |    |-- width: long (nullable = true)\n",
      " |    |-- imagesLastModified: string (nullable = true)\n",
      " |    |-- imagesLastModifiedDate: string (nullable = true)\n",
      " |    |-- is100YearCertified: string (nullable = true)\n",
      " |    |-- isKtis: string (nullable = true)\n",
      " |    |-- keywords: array (nullable = true)\n",
      " |    |    |-- element: string (containsNull = true)\n",
      " |    |-- mapUrl: string (nullable = true)\n",
      " |    |-- menuImages: string (nullable = true)\n",
      " |    |-- menus: string (nullable = true)\n",
      " |    |-- microReviews: string (nullable = true)\n",
      " |    |-- missingInfo: struct (nullable = true)\n",
      " |    |    |-- __typename: string (nullable = true)\n",
      " |    |    |-- isAccessorMissing: boolean (nullable = true)\n",
      " |    |    |-- isBizHourMissing: boolean (nullable = true)\n",
      " |    |    |-- isBoss: boolean (nullable = true)\n",
      " |    |    |-- isConveniencesMissing: boolean (nullable = true)\n",
      " |    |    |-- isDescriptionMissing: boolean (nullable = true)\n",
      " |    |    |-- isMenuImageMissing: boolean (nullable = true)\n",
      " |    |    |-- needLargeSuggestionBanner: boolean (nullable = true)\n",
      " |    |-- moreBookingReviewsPath: string (nullable = true)\n",
      " |    |-- moreFsasReviewsPath: string (nullable = true)\n",
      " |    |-- morePhotosPath: string (nullable = true)\n",
      " |    |-- moreUGCReviewsPath: string (nullable = true)\n",
      " |    |-- name: string (nullable = true)\n",
      " |    |-- naverBlog: struct (nullable = true)\n",
      " |    |    |-- __ref: string (nullable = true)\n",
      " |    |-- naverBookingHubUrl: string (nullable = true)\n",
      " |    |-- naverBookingPromotion: string (nullable = true)\n",
      " |    |-- naverBookingUrl: string (nullable = true)\n",
      " |    |-- paymentInfo: array (nullable = true)\n",
      " |    |    |-- element: string (containsNull = true)\n",
      " |    |-- phone: string (nullable = true)\n",
      " |    |-- poiInfo: struct (nullable = true)\n",
      " |    |    |-- __typename: string (nullable = true)\n",
      " |    |    |-- polygon: string (nullable = true)\n",
      " |    |    |-- polyline: string (nullable = true)\n",
      " |    |-- promotionTitle: string (nullable = true)\n",
      " |    |-- rcode: string (nullable = true)\n",
      " |    |-- reportWrongInfoType: string (nullable = true)\n",
      " |    |-- reviewSettings: struct (nullable = true)\n",
      " |    |    |-- __typename: string (nullable = true)\n",
      " |    |    |-- blog: long (nullable = true)\n",
      " |    |    |-- cafe: long (nullable = true)\n",
      " |    |    |-- keyword: string (nullable = true)\n",
      " |    |    |-- showVisitorReviewScore: boolean (nullable = true)\n",
      " |    |-- road: string (nullable = true)\n",
      " |    |-- roadAddress: string (nullable = true)\n",
      " |    |-- routeUrl: string (nullable = true)\n",
      " |    |-- siteId: string (nullable = true)\n",
      " |    |-- staticMapUrl: string (nullable = true)\n",
      " |    |-- streetPanorama: struct (nullable = true)\n",
      " |    |    |-- __ref: string (nullable = true)\n",
      " |    |-- talktalkUrl: string (nullable = true)\n",
      " |    |-- themes: string (nullable = true)\n",
      " |    |-- virtualPhone: string (nullable = true)\n",
      " |    |-- visitorReviewsScore: double (nullable = true)\n",
      " |    |-- visitorReviewsTextReviewTotal: long (nullable = true)\n",
      " |    |-- visitorReviewsTotal: long (nullable = true)\n",
      " |    |-- zoomLevel: string (nullable = true)\n",
      "\n"
     ]
    }
   ],
   "source": [
    "df1.printSchema()"
   ]
  },
  {
   "cell_type": "code",
   "execution_count": 41,
   "id": "3e615271-c6a7-4531-ba72-617bc95584e0",
   "metadata": {},
   "outputs": [
    {
     "name": "stdout",
     "output_type": "stream",
     "text": [
      "+----------+\n",
      "|      name|\n",
      "+----------+\n",
      "|다인한의원|\n",
      "+----------+\n",
      "\n"
     ]
    }
   ],
   "source": [
    "df1.select('col.name').filter(df1.col.id == '11779766').show()"
   ]
  },
  {
   "cell_type": "code",
   "execution_count": null,
   "id": "f95a7a01-db63-4ebb-abcf-544ad8a01b45",
   "metadata": {},
   "outputs": [],
   "source": [
    "# df_schema = StructType([\n",
    "#     StructField('id', StringType(), True),\n",
    "#     StructField('name', StringType(), True),\n",
    "#     StructField('review_keywords', StringType(), True),\n",
    "#     StructField('description', StringType(), True),\n",
    "#     StructField('road', StringType(), True),\n",
    "#     StructField('booking_business_id', StringType(), True),\n",
    "#     StructField('booking_display_name', StringType(), True),\n",
    "#     StructField('category', StringType(), True),\n",
    "#     StructField('category_code', StringType(), True),\n",
    "#     StructField('category_code_list', StringType(), True),\n",
    "#     StructField('category_count', StringType(), True),\n",
    "#     StructField('rcode', StringType(), True),\n",
    "#     StructField('virtual_phone', StringType(), True),\n",
    "#     StructField('phone', StringType(), True),\n",
    "#     StructField('naver_booking_url', StringType(), True),\n",
    "#     StructField('conveniences', StringType(), True),\n",
    "#     StructField('talktalk_url', StringType(), True),\n",
    "#     StructField('road_address', StringType(), True),\n",
    "#     StructField('keywords', StringType(), True),\n",
    "#     StructField('payment_info', StringType(), True),\n",
    "#     StructField('ref', StringType(), True),\n",
    "#     StructField('lon', StringType(), True),\n",
    "#     StructField('lat', StringType(), True) \n",
    "# ])\n",
    "# schema_df = spark.createDataFrame([], df_schema)"
   ]
  },
  {
   "cell_type": "code",
   "execution_count": null,
   "id": "0e3546ba-8374-403a-bdb5-05a6f4ae5eb4",
   "metadata": {},
   "outputs": [],
   "source": [
    "# target_keys = [\n",
    "#     'id',\n",
    "#     'name',\n",
    "#     'bookingBusinessId',\n",
    "#     'bookingDisplayName',\n",
    "#     'category',\n",
    "#     'categoryCode',\n",
    "#     'categoryCount',    \n",
    "#     'description',\n",
    "#     'virtualPhone',\n",
    "#     'phone',\n",
    "#     'rcode',\n",
    "#     'reviewSettings.keyword',\n",
    "#     'roadAddress',\n",
    "#     'streetPanorama.__ref',\n",
    "#     'naverBookingUrl',\n",
    "#     'talktalkUrl',\n",
    "#     'categoryCodeList',\n",
    "#     'conveniences',\n",
    "#     'keywords',\n",
    "#     'paymentInfo'\n",
    "# ]"
   ]
  },
  {
   "cell_type": "code",
   "execution_count": null,
   "id": "fb168e48-9e92-4694-b954-2426014e0347",
   "metadata": {},
   "outputs": [],
   "source": [
    "# def get_hospital_keys(df, str):\n",
    "#     return [k for k in df.columns if k.startswith(str)]"
   ]
  },
  {
   "cell_type": "code",
   "execution_count": null,
   "id": "8f119f23-ee7b-4ab3-9256-82005ffe7693",
   "metadata": {},
   "outputs": [],
   "source": [
    "# hospital_keys = get_hospital_keys(df, 'root.HospitalBase:')\n",
    "# # hospital_keys"
   ]
  },
  {
   "cell_type": "code",
   "execution_count": null,
   "id": "830464cc-eda7-4e45-bf9b-28dfdff5f62f",
   "metadata": {},
   "outputs": [],
   "source": [
    "# hospital_df = df.select(hospital_keys)\n",
    "# hospital_df"
   ]
  },
  {
   "cell_type": "code",
   "execution_count": null,
   "id": "fb4b95c5-b352-438c-b3ea-b58b0f83d1f7",
   "metadata": {},
   "outputs": [],
   "source": [
    "# hospital_df.select('HospitalBase:1024029483').dtypes"
   ]
  },
  {
   "cell_type": "code",
   "execution_count": null,
   "id": "fab45663-dd26-4fd3-8b25-050e1b543103",
   "metadata": {},
   "outputs": [],
   "source": [
    "string_keys = [\n",
    "    'id',\n",
    "    'name',\n",
    "    'bookingBusinessId',\n",
    "    'bookingDisplayName',\n",
    "    'category',\n",
    "    'categoryCode',\n",
    "    'categoryCount',    \n",
    "    'description',\n",
    "    'virtualPhone',\n",
    "    'phone',\n",
    "    'rcode',\n",
    "    'reviewSettings.keyword',\n",
    "    'roadAddress',\n",
    "    'streetPanorama.__ref',\n",
    "    'naverBookingUrl',\n",
    "    'talktalkUrl',\n",
    "]\n",
    "array_keys = [\n",
    "    'categoryCodeList',\n",
    "    'conveniences',\n",
    "    'keywords',\n",
    "    'paymentInfo'\n",
    "]"
   ]
  },
  {
   "cell_type": "code",
   "execution_count": null,
   "id": "b15b0292-a5a1-4d5e-96ca-de30d4d6fe01",
   "metadata": {},
   "outputs": [],
   "source": [
    "def select_target_cols(hospital_keys, target_keys):\n",
    "    target_tuples_list = []\n",
    "    for hospital_key in hospital_keys:\n",
    "        for target_key in target_keys:\n",
    "            new_target_key = target_key.replace('.', '_')\n",
    "            _, id_num = hospital_key.split(':')\n",
    "            target_tuple = (f'{hospital_key}.{target_key}', f'{id_num}_{new_target_key}')\n",
    "            target_tuples_list.append(target_tuple)\n",
    "    target_cols = [col(c) for _, c in target_tuples_list]\n",
    "    select_target_cols = [col(id_key).alias(id_key) for key_key, id_key in target_tuples_list]\n",
    "    return select_target_cols, target_cols"
   ]
  },
  {
   "cell_type": "code",
   "execution_count": null,
   "id": "be1bee55-49f0-42a6-a5e3-2f69413d11e6",
   "metadata": {},
   "outputs": [],
   "source": [
    "select_string_cols, string_cols = select_target_cols(hospital_keys, string_keys)\n",
    "select_array_cols, array_cols = select_target_cols(hospital_keys, array_keys)"
   ]
  },
  {
   "cell_type": "code",
   "execution_count": null,
   "id": "23627dae-5973-494d-ab7c-debc641d9571",
   "metadata": {},
   "outputs": [],
   "source": [
    "select_string_cols\n",
    "# string_cols\n",
    "#select_array_cols\n",
    "# array_cols"
   ]
  },
  {
   "cell_type": "code",
   "execution_count": null,
   "id": "86adf0a3-498e-4e0c-b872-9294795cf250",
   "metadata": {},
   "outputs": [],
   "source": [
    "# hospital_df.printSchema()"
   ]
  },
  {
   "cell_type": "code",
   "execution_count": null,
   "id": "2a0305ea-28c4-45c4-964c-71e02e9e1ee3",
   "metadata": {},
   "outputs": [],
   "source": [
    "select_string_df = hospital_df.select(*select_string_cols)\n",
    "select_string_df.printSchema()"
   ]
  },
  {
   "cell_type": "code",
   "execution_count": null,
   "id": "4b0f2d31-04b8-450c-85c5-db0ee000a131",
   "metadata": {},
   "outputs": [],
   "source": [
    "temp = df.select('HospitalBase:1024029483')\n",
    "temp.select(\"*\").show()"
   ]
  },
  {
   "cell_type": "code",
   "execution_count": null,
   "id": "2524c412-ec5d-4c17-bb9c-1d018cd9e82c",
   "metadata": {},
   "outputs": [],
   "source": [
    "select_string_df.select('1024029483_id').dropna().show()"
   ]
  },
  {
   "cell_type": "code",
   "execution_count": null,
   "id": "ccbd86ad-6ab5-4754-9466-2593ffa1be01",
   "metadata": {},
   "outputs": [],
   "source": [
    "lst = []\n",
    "for c in string_cols:\n",
    "    lst.append(select_string_df.select(c).dropna())"
   ]
  },
  {
   "cell_type": "code",
   "execution_count": null,
   "id": "f14376f5-4460-407b-8f4e-de42f74379fb",
   "metadata": {},
   "outputs": [
    {
     "name": "stderr",
     "output_type": "stream",
     "text": [
      "23/12/04 20:11:29 WARN HeartbeatReceiver: Removing executor driver with no recent heartbeats: 179897 ms exceeds timeout 120000 ms\n",
      "23/12/04 20:11:29 WARN SparkContext: Killing executors is not supported by current scheduler.\n"
     ]
    }
   ],
   "source": [
    "lst"
   ]
  },
  {
   "cell_type": "code",
   "execution_count": null,
   "id": "c4776708-ce6a-4e37-bbe3-48840140e6fc",
   "metadata": {},
   "outputs": [],
   "source": []
  }
 ],
 "metadata": {
  "kernelspec": {
   "display_name": "Python 3 (ipykernel)",
   "language": "python",
   "name": "python3"
  },
  "language_info": {
   "codemirror_mode": {
    "name": "ipython",
    "version": 3
   },
   "file_extension": ".py",
   "mimetype": "text/x-python",
   "name": "python",
   "nbconvert_exporter": "python",
   "pygments_lexer": "ipython3",
   "version": "3.11.6"
  }
 },
 "nbformat": 4,
 "nbformat_minor": 5
}
