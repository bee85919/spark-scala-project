{
 "cells": [
  {
   "cell_type": "markdown",
   "id": "e0d565d7-3521-4d97-88a2-03139ba78459",
   "metadata": {
    "jp-MarkdownHeadingCollapsed": true
   },
   "source": [
    "### 1. 준비"
   ]
  },
  {
   "cell_type": "code",
   "execution_count": 1,
   "id": "fdc8806c-0abe-4fae-98b0-2d661c3fa8cf",
   "metadata": {},
   "outputs": [],
   "source": [
    "from functools import reduce\n",
    "from pyspark.sql import SparkSession, Row\n",
    "from pyspark.sql.types import StructType, StructField, StringType, ArrayType\n",
    "from pyspark.sql.functions import col, concat_ws, split, regexp_replace, regexp_extract, when, length, get_json_object, explode, size, array_contains, array, flatten"
   ]
  },
  {
   "cell_type": "code",
   "execution_count": 2,
   "id": "d7d8ef68-f9da-4f00-aeeb-87ebf0f25e2e",
   "metadata": {},
   "outputs": [
    {
     "name": "stderr",
     "output_type": "stream",
     "text": [
      "23/12/06 13:19:42 WARN SparkSession: Using an existing Spark session; only runtime SQL configurations will take effect.\n"
     ]
    }
   ],
   "source": [
    "spark = SparkSession.builder \\\n",
    "    .appName(\"medi_test\") \\\n",
    "    .getOrCreate()"
   ]
  },
  {
   "cell_type": "code",
   "execution_count": 3,
   "id": "159998b4-e825-4007-add6-96df728a16d7",
   "metadata": {},
   "outputs": [],
   "source": [
    "root_path = '/Users/b06/Desktop/yeardream/medi-05'\n",
    "json_root_path = f'{root_path}/data/naverplace_meta'\n",
    "text_root_path = f'{root_path}/spark-scala-project/test.txt'"
   ]
  },
  {
   "cell_type": "code",
   "execution_count": 4,
   "id": "3c81d50f-a422-4c78-8ae6-a6c7aab95d1a",
   "metadata": {},
   "outputs": [],
   "source": [
    "test_json_path = f'{json_root_path}/naverplace_meta_1.json'"
   ]
  },
  {
   "cell_type": "code",
   "execution_count": 5,
   "id": "0b361322-2f32-43a2-8239-f5744a183f8c",
   "metadata": {},
   "outputs": [
    {
     "name": "stderr",
     "output_type": "stream",
     "text": [
      "23/12/06 13:19:43 WARN SparkStringUtils: Truncated the string representation of a plan since it was too large. This behavior can be adjusted by setting 'spark.sql.debug.maxToStringFields'.\n"
     ]
    }
   ],
   "source": [
    "data = spark.read.option(\"multiline\", \"true\").json(test_json_path)\n",
    "# data = spark.read.option(\"multiline\", \"true\").json('/Users/b06/Desktop/yeardream/medi-05/data/test.json')"
   ]
  },
  {
   "cell_type": "markdown",
   "id": "47e5e42f-e17b-4a61-a95a-374b691bf451",
   "metadata": {
    "jp-MarkdownHeadingCollapsed": true
   },
   "source": [
    "### 2. hospital dataframe"
   ]
  },
  {
   "cell_type": "code",
   "execution_count": 6,
   "id": "7cc05671-2ea6-4efb-a39d-5276ef8dc219",
   "metadata": {},
   "outputs": [],
   "source": [
    "hospital_data = data.select(explode(\"hospital\").alias(\"hospital\"))"
   ]
  },
  {
   "cell_type": "code",
   "execution_count": 7,
   "id": "abbbbe42-9842-4d94-b499-d379c6047a09",
   "metadata": {},
   "outputs": [],
   "source": [
    "hospital_df = hospital_data.select(\n",
    "    col(\"hospital.id\").alias(\"id\"),\n",
    "    col(\"hospital.name\").alias(\"name\"),\n",
    "    col(\"hospital.reviewSettings.keyword\").alias(\"review_keyword\"),\n",
    "    col(\"hospital.keywords\").alias(\"keywords\"),\n",
    "    col(\"hospital.naverBookingUrl\").alias(\"booking_url\"),\n",
    "    col(\"hospital.talktalkUrl\").alias(\"talktalk_url\"),\n",
    "    col(\"hospital.category\").alias(\"category\"),\n",
    "    col(\"hospital.categoryCode\").alias(\"category_code\"),\n",
    "    col(\"hospital.categoryCodeList\").alias(\"category_code_list\"),\n",
    "    col(\"hospital.categoryCount\").alias(\"category_count\"),\n",
    "    col(\"hospital.conveniences\").alias(\"conveniences\"),\n",
    "    col(\"hospital.paymentInfo\").alias(\"payment_info\"),\n",
    "    col(\"hospital.rcode\").alias(\"rcode\"),\n",
    "    col(\"hospital.virtualPhone\").alias(\"virtual_phone\"),\n",
    "    col(\"hospital.phone\").alias(\"phone\"),\n",
    "    col(\"hospital.roadAddress\").alias(\"road_address\"),\n",
    "    col(\"hospital.road\").alias(\"road\"),\n",
    "    col(\"hospital.description\").alias(\"description\"),\n",
    "    col(\"hospital.bookingBusinessId\").alias(\"booking_business_id\"),\n",
    "    col(\"hospital.bookingDisplayName\").alias(\"booking_display_name\"),\n",
    "    col(\"hospital.visitorReviewsScore\").alias(\"visitor_reviews_score\"),\n",
    "    col(\"hospital.visitorReviewsTotal\").alias(\"visitor_reviews_total\"),\n",
    "    col(\"hospital.visitorReviewsTextReviewTotal\").alias(\"visitor_reviews_text_review_total\"),\n",
    "    col(\"hospital.images\").alias(\"images\"),\n",
    "    col(\"hospital.homepages.etc\").alias(\"homepages_etc\"),\n",
    "    col(\"hospital.homepages.repr\").alias(\"homepages_repr\"),\n",
    "    col(\"hospital.homepages.repr.url\").alias(\"is_rep\"), # isRep?\n",
    "    col(\"hospital.coordinate.x\").alias(\"lon\"),\n",
    "    col(\"hospital.coordinate.y\").alias(\"lat\"),\n",
    ")"
   ]
  },
  {
   "cell_type": "code",
   "execution_count": 8,
   "id": "e2bcc02d-fcc6-453b-9bab-40d17633590a",
   "metadata": {},
   "outputs": [],
   "source": [
    "hospital_df = hospital_df.withColumn(\n",
    "    \"description\",\n",
    "    regexp_replace(\"description\", \"[\\n\\r*,]\", \"\")\n",
    ").withColumn(\n",
    "    \"road\",\n",
    "    regexp_replace(\"road\", \"[\\n\\r*,]\", \"\")\n",
    ")"
   ]
  },
  {
   "cell_type": "code",
   "execution_count": 9,
   "id": "abadbee0-25be-4af9-b053-8c43542b8c96",
   "metadata": {},
   "outputs": [],
   "source": [
    "hospital_df = hospital_df.withColumn(\n",
    "    \"description_length\",\n",
    "    length(\"description\")\n",
    ").withColumn(\n",
    "    \"images_count\", \n",
    "    size(\"images\")\n",
    ").withColumn(\n",
    "    'photo_review_ratio',\n",
    "    (col('visitor_reviews_total')-col('visitor_reviews_text_review_total'))/col('visitor_reviews_total')\n",
    ").withColumn(\n",
    "    'is_smart_phone',\n",
    "    col('phone').startswith('010')\n",
    ").withColumn(\n",
    "    'is_zero_pay',\n",
    "    array_contains(col('payment_info'), '제로페이')\n",
    ").withColumn(\n",
    "    'homepages_url', \n",
    "    flatten(array(array('homepages_repr.url'), 'homepages_etc.url'))\n",
    ").withColumn(\n",
    "    'homepages_type', \n",
    "    flatten(array(array('homepages_repr.type'), 'homepages_etc.type'))\n",
    ").withColumn(\n",
    "    'homepages_order', \n",
    "    when(\n",
    "        col('homepages_repr.order').isNull(), 0\n",
    "    ).otherwise(\n",
    "        size(flatten(array(array('homepages_repr.order'), 'homepages_etc.order')))\n",
    "    )\n",
    ").withColumn(\n",
    "    'isDeadUrl',\n",
    "    flatten(array(array('homepages_repr.isDeadUrl'), 'homepages_etc.isDeadUrl'))\n",
    ").withColumn(\n",
    "    'keywords_1',\n",
    "    col('keywords')[0]\n",
    ").withColumn(\n",
    "    'keywords_2',\n",
    "    col('keywords')[1]\n",
    ").withColumn(\n",
    "    'keywords_3',\n",
    "    col('keywords')[2]\n",
    ").withColumn(\n",
    "    'keywords_4',\n",
    "    col('keywords')[3]\n",
    ").withColumn(\n",
    "    'keywords_5',\n",
    "    col('keywords')[4]\n",
    ")"
   ]
  },
  {
   "cell_type": "code",
   "execution_count": 24,
   "id": "314e5268-75cc-4e81-affe-5a0448923b07",
   "metadata": {},
   "outputs": [],
   "source": [
    "# hospital_df.columns"
   ]
  },
  {
   "cell_type": "markdown",
   "id": "af17704c-6adb-4c03-8523-9495b942c317",
   "metadata": {
    "jp-MarkdownHeadingCollapsed": true
   },
   "source": [
    "### 3. root dataframe"
   ]
  },
  {
   "cell_type": "code",
   "execution_count": 11,
   "id": "11cd356d-642f-49f0-8b46-74a8e4e2572f",
   "metadata": {},
   "outputs": [],
   "source": [
    "root_data = data.select(explode(\"root\").alias(\"root\"))\n",
    "# root_df.select(\"root.base.__ref\").show()\n",
    "# root_df.select(\"root.fsasReviews.total\").show()\n",
    "# root_df.select(\"root.kinQna.answerCount\").show()"
   ]
  },
  {
   "cell_type": "code",
   "execution_count": 12,
   "id": "29129356-caf4-4a78-bf40-2c5c630b98a7",
   "metadata": {},
   "outputs": [],
   "source": [
    "root_df = root_data.select(\n",
    "    col(\"root.base.__ref\").alias(\"root_id\"),\n",
    "    col(\"root.fsasReviews.total\").alias(\"fsas_reviews_count\"),\n",
    "    col(\"root.kinQna.answerCount\").alias(\"kin_qna_count\")\n",
    ")"
   ]
  },
  {
   "cell_type": "code",
   "execution_count": 13,
   "id": "9f2e1630-5e07-45c2-906f-29c2fa90080f",
   "metadata": {},
   "outputs": [],
   "source": [
    "root_df = root_df.withColumn(\n",
    "    \"root_id\",\n",
    "    regexp_extract(\"root_id\", \"HospitalBase:([\\\\w]+)\", 1)\n",
    ")"
   ]
  },
  {
   "cell_type": "code",
   "execution_count": 26,
   "id": "ef70cd54-93be-4dff-873d-89c805f6b581",
   "metadata": {},
   "outputs": [],
   "source": [
    "# root_df.show()"
   ]
  },
  {
   "cell_type": "markdown",
   "id": "fbe20e1b-9af0-4f9c-9c32-020b067a9be5",
   "metadata": {},
   "source": [
    "### 4. join, save dataframe"
   ]
  },
  {
   "cell_type": "code",
   "execution_count": 25,
   "id": "e851e019-91bd-4c0c-89f6-f6d117ea5402",
   "metadata": {},
   "outputs": [],
   "source": [
    "df = hospital_df.join(root_df, hospital_df.id == root_df.root_id, \"left_outer\")\n",
    "df = df.drop(\"root_id\", \"images\", \"keywords\", \"homepages_repr\", \"homepages_etc\")\n",
    "# id_check = df.filter(col(\"root_id\") != col(\"id\"))\n",
    "# id_check.show()\n",
    "arr_col = [field.name for field in df.schema.fields if isinstance(field.dataType, ArrayType)]\n",
    "# arr_col"
   ]
  },
  {
   "cell_type": "code",
   "execution_count": 16,
   "id": "c119ab9a-3e1d-4503-881a-c427bdb4d999",
   "metadata": {},
   "outputs": [],
   "source": [
    "def arr_to_str(df, col):\n",
    "    df = df.withColumn(col, concat_ws(\",\", col))\n",
    "    return df"
   ]
  },
  {
   "cell_type": "code",
   "execution_count": 21,
   "id": "0e65970a-0c7e-460b-84be-eae6b56fbebe",
   "metadata": {},
   "outputs": [],
   "source": [
    "for c in arr_col:\n",
    "    df = arr_to_str(df, c)"
   ]
  },
  {
   "cell_type": "code",
   "execution_count": null,
   "id": "0c4f53fc-a93e-4451-894d-36e1409cd474",
   "metadata": {},
   "outputs": [],
   "source": [
    "# save_root_path = f'{root_path}/spark-scala-project/output/pyspark/'\n",
    "# save_path = '{save_root_path}/naverplace_{n}'\n",
    "# df.write.parquet(save_path)"
   ]
  },
  {
   "cell_type": "code",
   "execution_count": 22,
   "id": "e8912bbc-cbdd-4035-b2d3-67d51776dff7",
   "metadata": {},
   "outputs": [],
   "source": [
    "# print(n)\n",
    "n=1"
   ]
  },
  {
   "cell_type": "code",
   "execution_count": 23,
   "id": "74492b42-8881-49d5-bb99-1d3cc11ae31a",
   "metadata": {},
   "outputs": [],
   "source": [
    "save_root_path = f'{root_path}/spark-scala-project/output/pyspark/test'\n",
    "save_path = '{save_root_path}/naverplace_{n}.csv'\n",
    "df.coalesce(1).write.mode('append').option(\"encoding\", \"utf-8\").csv(save_path, header=True)"
   ]
  }
 ],
 "metadata": {
  "kernelspec": {
   "display_name": "Python 3 (ipykernel)",
   "language": "python",
   "name": "python3"
  },
  "language_info": {
   "codemirror_mode": {
    "name": "ipython",
    "version": 3
   },
   "file_extension": ".py",
   "mimetype": "text/x-python",
   "name": "python",
   "nbconvert_exporter": "python",
   "pygments_lexer": "ipython3",
   "version": "3.11.6"
  }
 },
 "nbformat": 4,
 "nbformat_minor": 5
}
