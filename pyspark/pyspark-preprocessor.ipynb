{
 "cells": [
  {
   "cell_type": "code",
   "execution_count": 1,
   "id": "fdc8806c-0abe-4fae-98b0-2d661c3fa8cf",
   "metadata": {},
   "outputs": [],
   "source": [
    "from functools import reduce\n",
    "from pyspark.sql import SparkSession, Row\n",
    "from pyspark.sql.types import StructType, StructField, StringType\n",
    "from pyspark.sql.functions import col, coalesce, split, regexp_replace, when, length, get_json_object, explode, size, array_contains"
   ]
  },
  {
   "cell_type": "code",
   "execution_count": 2,
   "id": "d7d8ef68-f9da-4f00-aeeb-87ebf0f25e2e",
   "metadata": {},
   "outputs": [
    {
     "name": "stderr",
     "output_type": "stream",
     "text": [
      "23/12/05 16:58:26 WARN SparkSession: Using an existing Spark session; only runtime SQL configurations will take effect.\n"
     ]
    }
   ],
   "source": [
    "spark = SparkSession.builder \\\n",
    "    .appName(\"medi_test\") \\\n",
    "    .getOrCreate()"
   ]
  },
  {
   "cell_type": "code",
   "execution_count": 3,
   "id": "159998b4-e825-4007-add6-96df728a16d7",
   "metadata": {},
   "outputs": [],
   "source": [
    "root_path = '/Users/b06/Desktop/yeardream/medi-05'\n",
    "json_root_path = f'{root_path}/data/naverplace_meta'\n",
    "save_root_path = f'{root_path}/spark-scala-project/output/pyspark'\n",
    "text_root_path = f'{root_path}/spark-scala-project/test.txt'"
   ]
  },
  {
   "cell_type": "code",
   "execution_count": 4,
   "id": "3c81d50f-a422-4c78-8ae6-a6c7aab95d1a",
   "metadata": {},
   "outputs": [],
   "source": [
    "test_json_path = f'{json_root_path}/naverplace_meta_1.json'"
   ]
  },
  {
   "cell_type": "code",
   "execution_count": 5,
   "id": "0b361322-2f32-43a2-8239-f5744a183f8c",
   "metadata": {},
   "outputs": [
    {
     "name": "stderr",
     "output_type": "stream",
     "text": [
      "23/12/05 16:58:27 WARN SparkStringUtils: Truncated the string representation of a plan since it was too large. This behavior can be adjusted by setting 'spark.sql.debug.maxToStringFields'.\n"
     ]
    }
   ],
   "source": [
    "df = spark.read.option(\"multiline\", \"true\").json(test_json_path)\n",
    "# df = spark.read.option(\"multiline\", \"true\").json('/Users/b06/Desktop/yeardream/medi-05/data/test.json')"
   ]
  },
  {
   "cell_type": "code",
   "execution_count": 6,
   "id": "7cc05671-2ea6-4efb-a39d-5276ef8dc219",
   "metadata": {},
   "outputs": [],
   "source": [
    "hospital_df = df.select(explode(\"Hospital\").alias(\"hospital\"))\n",
    "root_query_df = df.select(explode(\"ROOT_QUERY\").alias(\"root_query\"))"
   ]
  },
  {
   "cell_type": "code",
   "execution_count": 7,
   "id": "dbbf78ba-d9bc-4ff6-a888-bb8bf3df2858",
   "metadata": {},
   "outputs": [],
   "source": [
    "# hospital_df.select(\"hospital.id\").show()\n",
    "# hospital_df.select(\"hospital.name\").filter(hospital_df.hospital.id == '11779766').show()"
   ]
  },
  {
   "cell_type": "code",
   "execution_count": 8,
   "id": "a5dc9659-c9d2-44be-8960-f1bf9eccb008",
   "metadata": {},
   "outputs": [],
   "source": [
    "# hospital_df.show()\n",
    "# hospital_df.printSchema(2)"
   ]
  },
  {
   "cell_type": "code",
   "execution_count": 9,
   "id": "ff0aae9b-693b-4333-bc3a-700083a810f4",
   "metadata": {},
   "outputs": [
    {
     "ename": "SyntaxError",
     "evalue": "invalid syntax (3955356764.py, line 9)",
     "output_type": "error",
     "traceback": [
      "\u001b[0;36m  Cell \u001b[0;32mIn[9], line 9\u001b[0;36m\u001b[0m\n\u001b[0;31m    homepages_url cond1: [homepages.repr.url] and cond2: [homepages.repr.etc.url]\u001b[0m\n\u001b[0m                  ^\u001b[0m\n\u001b[0;31mSyntaxError\u001b[0m\u001b[0;31m:\u001b[0m invalid syntax\n"
     ]
    }
   ],
   "source": [
    "# visitorReviewsTotal\n",
    "# visitorReviewsScore\n",
    "# visitorReviewsTextReviewTotal\n",
    "# photo_review_ratio = (visitorReviewsTotal-visitorReviewsTextReviewTotal)/visitorReviewsTotal\n",
    "# images\n",
    "# images_count len(images)\n",
    "# is_smart_phone bool: if phone.startswith('010')\n",
    "# is_zeropay bool: if '제로페이' in payment_info\n",
    "homepages_url cond1: [homepages.repr.url] and cond2: [homepages.repr.etc.url]\n",
    "homepages_type cond1: [homepages.repr.type] and cond2: [homepages.repr.etc.type]\n",
    "homepages_order: len(homepages.etc.order) + 1\n",
    "homepages_isDeadurl cond1: [homepages.repr.isDeadUrl] and cond2: [homepages.repr.isDeadUrl]\n",
    "homepages_isRep homepages.repr.url\n",
    "description_length len(description)\n",
    "is_blog_exposed ?\n",
    "self_blog_present ?"
   ]
  },
  {
   "cell_type": "code",
   "execution_count": 10,
   "id": "abbbbe42-9842-4d94-b499-d379c6047a09",
   "metadata": {},
   "outputs": [],
   "source": [
    "hospital_df = hospital_df.select(\n",
    "    col(\"hospital.id\").alias(\"id\"),\n",
    "    col(\"hospital.name\").alias(\"name\"),\n",
    "    col(\"hospital.reviewSettings.keyword\").alias(\"review_keyword\"),\n",
    "    col(\"hospital.keywords\").alias(\"keywords\"),\n",
    "    col(\"hospital.naverBookingUrl\").alias(\"booking_url\"),\n",
    "    col(\"hospital.talktalkUrl\").alias(\"talktalk_url\"),\n",
    "    col(\"hospital.category\").alias(\"category\"),\n",
    "    col(\"hospital.categoryCode\").alias(\"category_code\"),\n",
    "    col(\"hospital.categoryCodeList\").alias(\"category_code_list\"),\n",
    "    col(\"hospital.categoryCount\").alias(\"category_count\"),\n",
    "    col(\"hospital.conveniences\").alias(\"conveniences\"),\n",
    "    col(\"hospital.paymentInfo\").alias(\"payment_info\"),\n",
    "    col(\"hospital.rcode\").alias(\"rcode\"),\n",
    "    col(\"hospital.virtualPhone\").alias(\"virtual_phone\"),\n",
    "    col(\"hospital.phone\").alias(\"phone\"),\n",
    "    col(\"hospital.roadAddress\").alias(\"road_address\"),\n",
    "    col(\"hospital.road\").alias(\"road\"),\n",
    "    col(\"hospital.description\").alias(\"description\"),\n",
    "    col(\"hospital.bookingBusinessId\").alias(\"booking_business_id\"),\n",
    "    col(\"hospital.bookingDisplayName\").alias(\"booking_display_name\"),\n",
    "    col(\"hospital.visitorReviewsScore\").alias(\"visitor_reviews_score\"),\n",
    "    col(\"hospital.visitorReviewsTotal\").alias(\"visitor_reviews_total\"),\n",
    "    col(\"hospital.visitorReviewsTextReviewTotal\").alias(\"visitor_reviews_text_review_total\"),\n",
    "    col(\"hospital.images\").alias(\"images\"),\n",
    "    col(\"hospital.homepages.etc\").alias(\"homepages_etc\"),\n",
    "    col(\"hospital.homepages.repr\").alias(\"homepages_repr\"),\n",
    ")"
   ]
  },
  {
   "cell_type": "code",
   "execution_count": 11,
   "id": "270794de-864a-4067-8182-80b58e242bba",
   "metadata": {},
   "outputs": [],
   "source": [
    "hospital_df = hospital_df.withColumn(\n",
    "    \"images_count\", \n",
    "    size(\"images\")\n",
    ")\n",
    "# hospital_df.select(\"images_count\").show()"
   ]
  },
  {
   "cell_type": "code",
   "execution_count": 12,
   "id": "5b732d2b-30c9-4c55-8054-86de923256be",
   "metadata": {},
   "outputs": [],
   "source": [
    "hospital_df = hospital_df.withColumn(\n",
    "    'photo_review_ratio',\n",
    "    (col('visitor_reviews_total')-col('visitor_reviews_text_review_total'))/col('visitor_reviews_total')\n",
    ")\n",
    "# hospital_df.select(\"photo_review_ratio\").show()"
   ]
  },
  {
   "cell_type": "code",
   "execution_count": 13,
   "id": "0f4aa0b5-4a65-420a-ad5f-a4434436e082",
   "metadata": {},
   "outputs": [],
   "source": [
    "hospital_df = hospital_df.withColumn(\n",
    "    'is_smart_phone',\n",
    "    col('phone').startswith('010')\n",
    ")\n",
    "# hospital_df.select(\"is_smart_phone\").show()"
   ]
  },
  {
   "cell_type": "code",
   "execution_count": 14,
   "id": "9a51994e-6389-4967-8b76-d4be2c266da5",
   "metadata": {},
   "outputs": [],
   "source": [
    "hospital_df = hospital_df.withColumn(\n",
    "    'is_zero_pay',\n",
    "    array_contains(col('payment_info'), '제로페이')\n",
    ")\n",
    "# hospital_df.select(\"is_zero_pay\").show()"
   ]
  },
  {
   "cell_type": "code",
   "execution_count": 19,
   "id": "2a1b2fac-149d-475b-beb3-edb30cea4410",
   "metadata": {},
   "outputs": [
    {
     "data": {
      "text/plain": [
       "Row(url=['https://blog.naver.com/kundaeclinic', 'https://www.instagram.com/bluehillclinic_official'])"
      ]
     },
     "execution_count": 19,
     "metadata": {},
     "output_type": "execute_result"
    }
   ],
   "source": [
    "# hospital_df.select(\"homepages_etc.url\").collect()[1]"
   ]
  },
  {
   "cell_type": "code",
   "execution_count": null,
   "id": "8a9e7aef-b0de-4b1f-bb85-c529f6ca211a",
   "metadata": {},
   "outputs": [],
   "source": []
  }
 ],
 "metadata": {
  "kernelspec": {
   "display_name": "Python 3 (ipykernel)",
   "language": "python",
   "name": "python3"
  },
  "language_info": {
   "codemirror_mode": {
    "name": "ipython",
    "version": 3
   },
   "file_extension": ".py",
   "mimetype": "text/x-python",
   "name": "python",
   "nbconvert_exporter": "python",
   "pygments_lexer": "ipython3",
   "version": "3.11.6"
  }
 },
 "nbformat": 4,
 "nbformat_minor": 5
}
