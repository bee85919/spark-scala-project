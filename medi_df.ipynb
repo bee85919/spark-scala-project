{
 "cells": [
  {
   "cell_type": "markdown",
   "metadata": {},
   "source": [
    "### 1. 라이브러리 불러오기"
   ]
  },
  {
   "cell_type": "code",
   "execution_count": 1,
   "metadata": {},
   "outputs": [],
   "source": [
    "from pyspark.sql import SparkSession, Row\n",
    "from pyspark.sql.types import StructType, StructField, StringType\n",
    "from pyspark.sql.functions import col"
   ]
  },
  {
   "cell_type": "markdown",
   "metadata": {},
   "source": [
    "### 2. 세션 생성"
   ]
  },
  {
   "cell_type": "code",
   "execution_count": 2,
   "metadata": {},
   "outputs": [
    {
     "name": "stderr",
     "output_type": "stream",
     "text": [
      "23/11/27 12:59:15 WARN SparkSession: Using an existing Spark session; only runtime SQL configurations will take effect.\n"
     ]
    }
   ],
   "source": [
    "spark = SparkSession.builder \\\n",
    "    .appName(\"medi_test\") \\\n",
    "    .config(\"spark.driver.memory\", \"4g\") \\\n",
    "    .config(\"spark.executor.memory\", \"4g\") \\\n",
    "    .getOrCreate()"
   ]
  },
  {
   "cell_type": "markdown",
   "metadata": {},
   "source": [
    "### 3. 환경 변수 설정"
   ]
  },
  {
   "cell_type": "code",
   "execution_count": 3,
   "metadata": {},
   "outputs": [],
   "source": [
    "root_path = '/Users/b06/Desktop/yeardream/medi-05'\n",
    "json_root_path = f'{root_path}/data/naverplace_meta'\n",
    "save_root_path = f'{root_path}/spark-scala-project/output/pyspark'\n",
    "text_root_path = f'{root_path}/spark-scala-project/test.txt'"
   ]
  },
  {
   "cell_type": "markdown",
   "metadata": {},
   "source": [
    "### 4. 데이터 불러오기"
   ]
  },
  {
   "cell_type": "code",
   "execution_count": 4,
   "metadata": {},
   "outputs": [],
   "source": [
    "def read_text():\n",
    "    with open(text_root_path, 'r') as t: \n",
    "        l = t.readlines()        \n",
    "    n = l.pop(0).strip()    \n",
    "    with open(text_root_path, 'w') as t: \n",
    "        t.writelines(l)\n",
    "    return n"
   ]
  },
  {
   "cell_type": "code",
   "execution_count": 5,
   "metadata": {},
   "outputs": [],
   "source": [
    "def read_json(n):\n",
    "    json_path = f'{json_root_path}/naverplace_meta_{n}.json'\n",
    "    data = spark.read.json(json_path)\n",
    "    return data"
   ]
  },
  {
   "cell_type": "code",
   "execution_count": 6,
   "metadata": {},
   "outputs": [
    {
     "name": "stderr",
     "output_type": "stream",
     "text": [
      "23/11/27 12:59:17 WARN SparkStringUtils: Truncated the string representation of a plan since it was too large. This behavior can be adjusted by setting 'spark.sql.debug.maxToStringFields'.\n"
     ]
    }
   ],
   "source": [
    "# n = read_text()\n",
    "n = 1\n",
    "data = read_json(n)"
   ]
  },
  {
   "cell_type": "markdown",
   "metadata": {},
   "source": [
    "### 5. Columns & Schema"
   ]
  },
  {
   "cell_type": "code",
   "execution_count": 7,
   "metadata": {},
   "outputs": [],
   "source": [
    "columns = data.columns\n",
    "hospital_bases = [c for c in columns if \"HospitalBase\" in c]"
   ]
  },
  {
   "cell_type": "code",
   "execution_count": 8,
   "metadata": {},
   "outputs": [],
   "source": [
    "df_schema = StructType([\n",
    "    StructField('id', StringType(), True),\n",
    "    StructField('name', StringType(), True),\n",
    "    StructField('review_keywords', StringType(), True),\n",
    "    StructField('description', StringType(), True),\n",
    "    StructField('road', StringType(), True),\n",
    "    StructField('booking_business_id', StringType(), True),\n",
    "    StructField('booking_display_name', StringType(), True),\n",
    "    StructField('category', StringType(), True),\n",
    "    StructField('category_code', StringType(), True),\n",
    "    StructField('category_code_list', StringType(), True),\n",
    "    StructField('category_count', StringType(), True),\n",
    "    StructField('rcode', StringType(), True),\n",
    "    StructField('virtual_phone', StringType(), True),\n",
    "    StructField('phone', StringType(), True),\n",
    "    StructField('naver_booking_url', StringType(), True),\n",
    "    StructField('conveniences', StringType(), True),\n",
    "    StructField('talktalk_url', StringType(), True),\n",
    "    StructField('keywords', StringType(), True),\n",
    "    StructField('payment_info', StringType(), True)\n",
    "])\n",
    "df = spark.createDataFrame([], df_schema)"
   ]
  },
  {
   "cell_type": "markdown",
   "metadata": {},
   "source": [
    "### 6. 함수"
   ]
  },
  {
   "cell_type": "code",
   "execution_count": 9,
   "metadata": {},
   "outputs": [],
   "source": [
    "def get_value(data, base_id, key):\n",
    "    column_key = f'HospitalBase:{base_id}.{key}'\n",
    "    column = data.select(column_key)\n",
    "    row = column.filter(~col(key).isNull())\n",
    "    value = row.first()\n",
    "    return value\n",
    "\n",
    "def replace_expr_and_get_value(value):\n",
    "    if value:\n",
    "        value = value \\\n",
    "            .replace(\"\\n\", \"\") \\\n",
    "            .replace(\"\\r\", \"\") \\\n",
    "            .replace(\",\", \"\") \\\n",
    "            .replace(\"*\", \"\")\n",
    "        return value\n",
    "    else:\n",
    "        return None\n",
    "    \n",
    "def check_none(value):\n",
    "    if value:\n",
    "        return value[0]\n",
    "    else:\n",
    "        return None"
   ]
  },
  {
   "cell_type": "code",
   "execution_count": 10,
   "metadata": {},
   "outputs": [
    {
     "name": "stdout",
     "output_type": "stream",
     "text": [
      "got HospitalBase:1049624743's values\n",
      "checked HospitalBase:1049624743's values\n",
      "replaced HospitalBase:1049624743's expressions\n",
      "appended HospitalBase:1049624743's rows\n",
      "\n",
      "got HospitalBase:1094819082's values\n",
      "checked HospitalBase:1094819082's values\n",
      "replaced HospitalBase:1094819082's expressions\n",
      "appended HospitalBase:1094819082's rows\n",
      "\n",
      "got HospitalBase:11779766's values\n",
      "checked HospitalBase:11779766's values\n",
      "replaced HospitalBase:11779766's expressions\n",
      "appended HospitalBase:11779766's rows\n",
      "\n",
      "got HospitalBase:1233961055's values\n",
      "checked HospitalBase:1233961055's values\n",
      "replaced HospitalBase:1233961055's expressions\n",
      "appended HospitalBase:1233961055's rows\n",
      "\n",
      "got HospitalBase:12787598's values\n",
      "checked HospitalBase:12787598's values\n",
      "replaced HospitalBase:12787598's expressions\n",
      "appended HospitalBase:12787598's rows\n",
      "\n",
      "got HospitalBase:12857046's values\n",
      "checked HospitalBase:12857046's values\n",
      "replaced HospitalBase:12857046's expressions\n",
      "appended HospitalBase:12857046's rows\n",
      "\n",
      "got HospitalBase:1298196933's values\n",
      "checked HospitalBase:1298196933's values\n",
      "replaced HospitalBase:1298196933's expressions\n",
      "appended HospitalBase:1298196933's rows\n",
      "\n",
      "got HospitalBase:1344046290's values\n",
      "checked HospitalBase:1344046290's values\n",
      "replaced HospitalBase:1344046290's expressions\n",
      "appended HospitalBase:1344046290's rows\n",
      "\n",
      "got HospitalBase:13463823's values\n",
      "checked HospitalBase:13463823's values\n",
      "replaced HospitalBase:13463823's expressions\n",
      "appended HospitalBase:13463823's rows\n",
      "\n",
      "got HospitalBase:1358991717's values\n",
      "checked HospitalBase:1358991717's values\n",
      "replaced HospitalBase:1358991717's expressions\n",
      "appended HospitalBase:1358991717's rows\n",
      "\n",
      "got HospitalBase:1413208872's values\n",
      "checked HospitalBase:1413208872's values\n",
      "replaced HospitalBase:1413208872's expressions\n",
      "appended HospitalBase:1413208872's rows\n",
      "\n",
      "got HospitalBase:18767514's values\n",
      "checked HospitalBase:18767514's values\n",
      "replaced HospitalBase:18767514's expressions\n",
      "appended HospitalBase:18767514's rows\n",
      "\n",
      "got HospitalBase:1934828030's values\n",
      "checked HospitalBase:1934828030's values\n",
      "replaced HospitalBase:1934828030's expressions\n",
      "appended HospitalBase:1934828030's rows\n",
      "\n",
      "got HospitalBase:19518318's values\n",
      "checked HospitalBase:19518318's values\n",
      "replaced HospitalBase:19518318's expressions\n",
      "appended HospitalBase:19518318's rows\n",
      "\n",
      "got HospitalBase:19518535's values\n",
      "checked HospitalBase:19518535's values\n",
      "replaced HospitalBase:19518535's expressions\n",
      "appended HospitalBase:19518535's rows\n",
      "\n",
      "got HospitalBase:19518656's values\n",
      "checked HospitalBase:19518656's values\n",
      "replaced HospitalBase:19518656's expressions\n",
      "appended HospitalBase:19518656's rows\n",
      "\n",
      "got HospitalBase:19529210's values\n",
      "checked HospitalBase:19529210's values\n",
      "replaced HospitalBase:19529210's expressions\n",
      "appended HospitalBase:19529210's rows\n",
      "\n",
      "got HospitalBase:19530874's values\n",
      "checked HospitalBase:19530874's values\n",
      "replaced HospitalBase:19530874's expressions\n",
      "appended HospitalBase:19530874's rows\n",
      "\n",
      "got HospitalBase:19531005's values\n",
      "checked HospitalBase:19531005's values\n",
      "replaced HospitalBase:19531005's expressions\n",
      "appended HospitalBase:19531005's rows\n",
      "\n",
      "got HospitalBase:265615453's values\n",
      "checked HospitalBase:265615453's values\n",
      "replaced HospitalBase:265615453's expressions\n",
      "appended HospitalBase:265615453's rows\n",
      "\n",
      "got HospitalBase:33237939's values\n",
      "checked HospitalBase:33237939's values\n",
      "replaced HospitalBase:33237939's expressions\n",
      "appended HospitalBase:33237939's rows\n",
      "\n",
      "got HospitalBase:36161237's values\n",
      "checked HospitalBase:36161237's values\n",
      "replaced HospitalBase:36161237's expressions\n",
      "appended HospitalBase:36161237's rows\n",
      "\n",
      "got HospitalBase:36476232's values\n",
      "checked HospitalBase:36476232's values\n",
      "replaced HospitalBase:36476232's expressions\n",
      "appended HospitalBase:36476232's rows\n",
      "\n",
      "got HospitalBase:38769635's values\n",
      "checked HospitalBase:38769635's values\n",
      "replaced HospitalBase:38769635's expressions\n",
      "appended HospitalBase:38769635's rows\n",
      "\n",
      "got HospitalBase:490574194's values\n",
      "checked HospitalBase:490574194's values\n",
      "replaced HospitalBase:490574194's expressions\n",
      "appended HospitalBase:490574194's rows\n",
      "\n"
     ]
    }
   ],
   "source": [
    "hospital_data = []\n",
    "for hospital_base, base_id in zip(hospital_bases, [hospital_base.split(\":\")[1].strip() for hospital_base in hospital_bases]):\n",
    "    # get values\n",
    "    id_value = get_value(data, base_id, 'id')\n",
    "    name_value = get_value(data, base_id, 'name')\n",
    "    review_keywords_value = get_value(data, base_id, 'reviewSettings')\n",
    "    description_value = get_value(data, base_id, 'description')\n",
    "    road_value = get_value(data, base_id, 'road')\n",
    "    bookingBusinessId_value = get_value(data, base_id, 'bookingBusinessId')\n",
    "    bookingDisplayName_value = get_value(data, base_id, 'bookingDisplayName')\n",
    "    category_value = get_value(data, base_id, 'category')\n",
    "    categoryCode_value = get_value(data, base_id, 'categoryCode')\n",
    "    categoryCodeList_value = get_value(data, base_id, 'categoryCodeList')\n",
    "    categoryCount_value = get_value(data, base_id, 'categoryCount')\n",
    "    rcode_value = get_value(data, base_id, 'rcode')\n",
    "    virtualPhone_value = get_value(data, base_id, 'virtualPhone')\n",
    "    phone_value = get_value(data, base_id, 'phone')\n",
    "    naverBookingUrl_value = get_value(data, base_id, 'naverBookingUrl')\n",
    "    conveniences_value = get_value(data, base_id, 'conveniences')\n",
    "    talktalkUrl_value = get_value(data, base_id, 'talktalkUrl')\n",
    "    keywords_value = get_value(data, base_id, 'keywords')\n",
    "    paymentInfo_value = get_value(data, base_id, 'paymentInfo')\n",
    "    print(f\"got HospitalBase:{base_id}'s values\")\n",
    "\n",
    "    # check none\n",
    "    id_value = check_none(id_value)\n",
    "    name_value = check_none(name_value)\n",
    "    review_keywords_value = review_keywords_value[0]['keyword'] if review_keywords_value else None\n",
    "    description_value = check_none(description_value)\n",
    "    road_value = check_none(road_value)\n",
    "    bookingBusinessId_value = check_none(bookingBusinessId_value)\n",
    "    bookingDisplayName_value = check_none(bookingDisplayName_value)\n",
    "    category_value = check_none(category_value)\n",
    "    categoryCode_value = check_none(categoryCode_value)\n",
    "    categoryCodeList_value = check_none(categoryCodeList_value)\n",
    "    categoryCount_value = check_none(categoryCount_value)\n",
    "    rcode_value = check_none(rcode_value)\n",
    "    virtualPhone_value = check_none(virtualPhone_value)\n",
    "    phone_value = check_none(phone_value)\n",
    "    naverBookingUrl_value = check_none(naverBookingUrl_value)\n",
    "    conveniences_value = check_none(conveniences_value)\n",
    "    talktalkUrl_value = check_none(talktalkUrl_value)\n",
    "    keywords_value = check_none(keywords_value)\n",
    "    paymentInfo_value = check_none(paymentInfo_value)\n",
    "    keywords_value = check_none(keywords_value)\n",
    "    print(f\"checked HospitalBase:{base_id}'s values\")\n",
    "    \n",
    "    # Replace expressions and get values\n",
    "    road_value = replace_expr_and_get_value(road_value)\n",
    "    description_value = replace_expr_and_get_value(description_value)\n",
    "    review_keywords_value = None if review_keywords_value is None else review_keywords_value.replace(\"&\", \"\").replace(\"|\", \"\").replace(\"\\\\\", \"\")\n",
    "    print(f\"replaced HospitalBase:{base_id}'s expressions\")\n",
    "    \n",
    "    # create rows\n",
    "    rows = Row(\n",
    "        id=base_id,\n",
    "        name=name_value,\n",
    "        review_keywords=review_keywords_value,\n",
    "        description=description_value,\n",
    "        road=road_value,\n",
    "        booking_business_id=bookingBusinessId_value,\n",
    "        booking_display_name=bookingDisplayName_value,\n",
    "        category=category_value,\n",
    "        category_code=categoryCode_value,\n",
    "        category_code_list=categoryCodeList_value,\n",
    "        category_count=categoryCount_value,\n",
    "        rcode=rcode_value,\n",
    "        virtual_phone=virtualPhone_value,\n",
    "        phone=phone_value,\n",
    "        naver_booking_url=naverBookingUrl_value,\n",
    "        conveniences=conveniences_value,\n",
    "        talktalk_url=talktalkUrl_value,\n",
    "        keywords=keywords_value,\n",
    "        payment_info=paymentInfo_value\n",
    "    )\n",
    "    hospital_data.append(rows)\n",
    "    print(f\"appended HospitalBase:{base_id}'s rows\\n\")"
   ]
  },
  {
   "cell_type": "code",
   "execution_count": 11,
   "metadata": {},
   "outputs": [],
   "source": [
    "# create dataframe from df_schema\n",
    "df = spark.createDataFrame(hospital_data, schema=df_schema)"
   ]
  },
  {
   "cell_type": "code",
   "execution_count": 12,
   "metadata": {},
   "outputs": [
    {
     "name": "stdout",
     "output_type": "stream",
     "text": [
      "['id', 'name', 'review_keywords', 'description', 'road', 'booking_business_id', 'booking_display_name', 'category', 'category_code', 'category_code_list', 'category_count', 'rcode', 'virtual_phone', 'phone', 'naver_booking_url', 'conveniences', 'talktalk_url', 'keywords', 'payment_info']\n"
     ]
    }
   ],
   "source": [
    "print(df.columns)"
   ]
  },
  {
   "cell_type": "code",
   "execution_count": 13,
   "metadata": {},
   "outputs": [],
   "source": [
    "# drop duplications\n",
    "# select columns\n",
    "hospiata_data = df.dropDuplicates([\n",
    "    \"id\",\n",
    "    \"name\",\n",
    "    \"review_keywords\",\n",
    "    \"description\",\n",
    "    \"road\",\n",
    "    \"booking_business_id\",\n",
    "    \"booking_display_name\",\n",
    "    \"category\",\n",
    "    \"category_code\",\n",
    "    \"category_code_list\",\n",
    "    \"category_count\",\n",
    "    \"rcode\",\n",
    "    \"virtual_phone\",\n",
    "    \"phone\",\n",
    "    \"naver_booking_url\",\n",
    "    \"conveniences\",\n",
    "    \"talktalk_url\",\n",
    "    \"keywords\",\n",
    "    \"payment_info\"\n",
    "])"
   ]
  },
  {
   "cell_type": "code",
   "execution_count": 14,
   "metadata": {},
   "outputs": [
    {
     "name": "stderr",
     "output_type": "stream",
     "text": [
      "                                                                                \r"
     ]
    }
   ],
   "source": [
    "# save to csv\n",
    "def save_to_csv(df, name, n):\n",
    "    save_path = f'{save_root_path}/{name}'\n",
    "    df \\\n",
    "        .coalesce(1) \\\n",
    "        .write \\\n",
    "        .mode('append') \\\n",
    "        .option(\"encoding\", \"utf-8\") \\\n",
    "        .csv(save_path, header=True)\n",
    "    \n",
    "save_to_csv(hospiata_data, \"hospital_datas\")"
   ]
  }
 ],
 "metadata": {
  "kernelspec": {
   "display_name": "Python 3 (ipykernel)",
   "language": "python",
   "name": "python3"
  },
  "language_info": {
   "codemirror_mode": {
    "name": "ipython",
    "version": 3
   },
   "file_extension": ".py",
   "mimetype": "text/x-python",
   "name": "python",
   "nbconvert_exporter": "python",
   "pygments_lexer": "ipython3",
   "version": "3.11.6"
  }
 },
 "nbformat": 4,
 "nbformat_minor": 4
}
