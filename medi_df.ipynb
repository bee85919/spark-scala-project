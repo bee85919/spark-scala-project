{
 "cells": [
  {
   "cell_type": "markdown",
   "metadata": {},
   "source": [
    "### 1. 라이브러리 불러오기"
   ]
  },
  {
   "cell_type": "code",
   "execution_count": null,
   "metadata": {},
   "outputs": [],
   "source": [
    "import re\n",
    "import os\n",
    "import json\n",
    "from pyspark import SparkContext, SQLContext\n",
    "from pyspark.sql import SparkSession, Row\n",
    "from pyspark.sql.types import StructType, StructField, StringType, IntegerType, LongType, ArrayType\n",
    "from pyspark.sql.functions import explode, map_keys, col, first, get_json_object, array, to_json, struct, split, regexp_replace, trim"
   ]
  },
  {
   "cell_type": "markdown",
   "metadata": {},
   "source": [
    "### 2. 세션 생성"
   ]
  },
  {
   "cell_type": "code",
   "execution_count": null,
   "metadata": {},
   "outputs": [],
   "source": [
    "spark = SparkSession.builder \\\n",
    "    .appName(\"medi_test\") \\\n",
    "    .config(\"spark.driver.memory\", \"4g\") \\\n",
    "    .config(\"spark.executor.memory\", \"4g\") \\\n",
    "    .getOrCreate()"
   ]
  },
  {
   "cell_type": "markdown",
   "metadata": {},
   "source": [
    "### 3. 환경 변수 설정"
   ]
  },
  {
   "cell_type": "code",
   "execution_count": null,
   "metadata": {},
   "outputs": [],
   "source": [
    "root_path = '/Users/parkjisook/Desktop/yeardream/medistream/js/json'\n",
    "json_root_path = f'{root_path}/naverplace_meta'\n",
    "save_root_path = f'{root_path}/output'\n",
    "text_root_path = f'{root_path}/test.txt'"
   ]
  },
  {
   "cell_type": "markdown",
   "metadata": {},
   "source": [
    "### 4. 데이터 불러오기"
   ]
  },
  {
   "cell_type": "code",
   "execution_count": null,
   "metadata": {},
   "outputs": [],
   "source": [
    "def read_text():\n",
    "    with open(text_root_path, 'r') as t: \n",
    "        l = t.readlines()\n",
    "        \n",
    "    n = l.pop(0).strip()\n",
    "    \n",
    "    with open(text_root_path, 'w') as t: \n",
    "        t.writelines(l)\n",
    "    return n"
   ]
  },
  {
   "cell_type": "code",
   "execution_count": null,
   "metadata": {},
   "outputs": [],
   "source": [
    "def read_json(n):\n",
    "    json_path = f'{json_root_path}/naverplace_meta_{n}.json'\n",
    "    data = spark.read.json(json_path)\n",
    "    return data"
   ]
  },
  {
   "cell_type": "code",
   "execution_count": null,
   "metadata": {},
   "outputs": [],
   "source": [
    "n = read_text()\n",
    "data = read_json(n)"
   ]
  },
  {
   "cell_type": "markdown",
   "metadata": {},
   "source": [
    "### 5. Columns & Schema"
   ]
  },
  {
   "cell_type": "code",
   "execution_count": null,
   "metadata": {},
   "outputs": [],
   "source": [
    "columns = data.columns\n",
    "hospital_bases = [c for c in columns if \"HospitalBase\" in c]"
   ]
  },
  {
   "cell_type": "code",
   "execution_count": null,
   "metadata": {},
   "outputs": [],
   "source": [
    "df_schema = StructType([\n",
    "    StructField('id', StringType(), True),\n",
    "    StructField('name', StringType(), True),\n",
    "    StructField('keyword', StringType(), True),\n",
    "    StructField('description', StringType(), True),\n",
    "    StructField('road', StringType(), True),\n",
    "    StructField('bookingBusinessId', StringType(), True),\n",
    "    StructField('bookingDisplayName', StringType(), True),\n",
    "    StructField('category', StringType(), True),\n",
    "    StructField('categoryCode', StringType(), True),\n",
    "    StructField('categoryCodeList', StringType(), True),\n",
    "    StructField('categoryCount', StringType(), True),\n",
    "    StructField('rcode', StringType(), True),\n",
    "    StructField('virtualPhone', StringType(), True),\n",
    "    StructField('phone', StringType(), True),\n",
    "    StructField('naverBookingUrl', StringType(), True),\n",
    "    StructField('conveniences', StringType(), True),\n",
    "    StructField('talktalkUrl', StringType(), True),\n",
    "    StructField('keywords', StringType(), True),\n",
    "    StructField('paymentInfo', StringType(), True)\n",
    "])\n",
    "df = spark.createDataFrame([], df_schema)"
   ]
  },
  {
   "cell_type": "markdown",
   "metadata": {},
   "source": [
    "### 6. 함수"
   ]
  },
  {
   "cell_type": "code",
   "execution_count": null,
   "metadata": {},
   "outputs": [],
   "source": [
    "def get_value(data, base_id, key):\n",
    "    column_key = f'HospitalBase:{base_id}.{key}'\n",
    "    column = data.select(column_key)\n",
    "    row = column.filter(~col(key).isNull())\n",
    "    value = row.first()\n",
    "    return value\n",
    "\n",
    "def replace_expr_and_get_value(value):\n",
    "    if value:\n",
    "        value = value \\\n",
    "            .replace(\"\\n\", \"\") \\\n",
    "            .replace(\"\\r\", \"\") \\\n",
    "            .replace(\",\", \" \") \\\n",
    "            .replace(\"*\", \"\")\n",
    "        return value\n",
    "    else:\n",
    "        return None\n",
    "    \n",
    "def save_to_csv(df, name, n):\n",
    "    save_path = f'{save_root_path}/{name}'\n",
    "    df.coalesce(1).write.mode('append').option(\"encoding\", \"utf-8\").csv(save_path, header=True)"
   ]
  },
  {
   "cell_type": "code",
   "execution_count": null,
   "metadata": {},
   "outputs": [],
   "source": [
    "hospital_data = []\n",
    "for hospital_base, base_id in zip(hospital_bases[:50], [hospital_base.split(\":\")[1].strip() for hospital_base in hospital_bases[:50]]):\n",
    "    # Get Values\n",
    "    id_value = get_value(data, base_id, 'id')\n",
    "    name_value = get_value(data, base_id, 'name')\n",
    "    review_settings_value = get_value(data, base_id, 'review_settings')\n",
    "    description_value = get_value(data, base_id, 'description')\n",
    "    road_value = get_value(data, base_id, 'road')\n",
    "    bookingBusinessId_value = get_value(data, base_id, 'bookingBusinessId')\n",
    "    bookingDisplayName_value = get_value(data, base_id, 'bookingDisplayName')\n",
    "    category_value = get_value(data, base_id, 'category')\n",
    "    categoryCode_value = get_value(data, base_id, 'categoryCode')\n",
    "    categoryCodeList_value = get_value(data, base_id, 'categoryCodeList')\n",
    "    categoryCount_value = get_value(data, base_id, 'categoryCount')\n",
    "    rcode_value = get_value(data, base_id, 'rcode')\n",
    "    virtualPhone_value = get_value(data, base_id, 'virtualPhone')\n",
    "    phone_value = get_value(data, base_id, 'phone')\n",
    "    naverBookingUrl_value = get_value(data, base_id, 'naverBookingUrl')\n",
    "    conveniences_value = get_value(data, base_id, 'conveniences')\n",
    "    talktalkUrl_value = get_value(data, base_id, 'talktalkUrl')\n",
    "    keywords_value = get_value(data, base_id, 'keywords')\n",
    "    paymentInfo_value = get_value(data, base_id, 'paymentInfo')\n",
    "\n",
    "    # Check None\n",
    "    id_value = id_value[0] if id_value else None\n",
    "    name_value = name_value[0] if name_value else None\n",
    "    keyword_value = review_settings_value[0]['keyword'] if review_settings_value else None\n",
    "    description_value = description_value[0] if description_value else None\n",
    "    road_value = road_value[0] if road_value else None\n",
    "    bookingBusinessId_value = bookingBusinessId_value[0] if bookingBusinessId_value else None\n",
    "    bookingDisplayName_value = bookingDisplayName_value[0] if bookingDisplayName_value else None\n",
    "    category_value = category_value[0] if category_value else None\n",
    "    categoryCode_value = categoryCode_value[0] if categoryCode_value else None\n",
    "    categoryCodeList_value = categoryCodeList_value[0] if categoryCodeList_value else None\n",
    "    categoryCount_value = categoryCount_value[0] if categoryCount_value else None\n",
    "    rcode_value = rcode_value[0] if rcode_value else None\n",
    "    virtualPhone_value = virtualPhone_value[0] if virtualPhone_value else None\n",
    "    phone_value = phone_value[0] if phone_value else None\n",
    "    naverBookingUrl_value = naverBookingUrl_value[0] if naverBookingUrl_value else None\n",
    "    conveniences_value = conveniences_value[0] if conveniences_value else None\n",
    "    talktalkUrl_value = talktalkUrl_value[0] if talktalkUrl_value else None\n",
    "    keywords_value = keywords_value[0] if keywords_value else None\n",
    "    paymentInfo_value = paymentInfo_value[0] if paymentInfo_value else None\n",
    "    keyword_value = keyword_value if keyword_value is not None else None\n",
    "    \n",
    "    # Replace expressions and get values\n",
    "    road_value = replace_expr_and_get_value(road_value)\n",
    "    description_value = replace_expr_and_get_value(description_value)\n",
    "    \n",
    "    # create rows\n",
    "    rows = Row(\n",
    "        id=base_id,\n",
    "        name=name_value,\n",
    "        keyword=keyword_value,\n",
    "        description=description_value,\n",
    "        road=road_value,\n",
    "        booking_business_id=bookingBusinessId_value,\n",
    "        booking_display_name=bookingDisplayName_value,\n",
    "        category=category_value,\n",
    "        category_code=categoryCode_value,\n",
    "        category_code_list=categoryCodeList_value,\n",
    "        category_count=categoryCount_value,\n",
    "        rcode=rcode_value,\n",
    "        virtual_phone=virtualPhone_value,\n",
    "        phone=phone_value,\n",
    "        naver_booking_url=naverBookingUrl_value,\n",
    "        conveniences=conveniences_value,\n",
    "        talktalk_url=talktalkUrl_value,\n",
    "        keywords=keywords_value,\n",
    "        payment_info=paymentInfo_value\n",
    "    )\n",
    "    hospital_data.append(rows)"
   ]
  },
  {
   "cell_type": "code",
   "execution_count": null,
   "metadata": {},
   "outputs": [],
   "source": [
    "df = spark.createDataFrame(hospital_data, schema=df_schema)"
   ]
  },
  {
   "cell_type": "code",
   "execution_count": null,
   "metadata": {},
   "outputs": [],
   "source": [
    "# drop duplications\n",
    "# select columns\n",
    "hospiata_data = df.dropDuplicates([\n",
    "    \"id\",\n",
    "    \"name\",\n",
    "    \"keyword\",\n",
    "    \"description\",\n",
    "    \"road\",\n",
    "    \"booking_business_id\",\n",
    "    \"booking_display_name\",\n",
    "    \"category\",\n",
    "    \"category_code\",\n",
    "    \"category_code_list\",\n",
    "    \"category_count\",\n",
    "    \"rcode\",\n",
    "    \"virtual_phone\",\n",
    "    \"phone\",\n",
    "    \"naver_booking_url\",\n",
    "    \"conveniences\",\n",
    "    \"talktalk_url\",\n",
    "    \"keywords\",\n",
    "    \"payment_info\"\n",
    "])"
   ]
  },
  {
   "cell_type": "code",
   "execution_count": null,
   "metadata": {},
   "outputs": [],
   "source": [
    "save_to_csv(hospiata_data, \"hospital_datas\")"
   ]
  }
 ],
 "metadata": {
  "kernelspec": {
   "display_name": "yeardream",
   "language": "python",
   "name": "python3"
  },
  "language_info": {
   "codemirror_mode": {
    "name": "ipython",
    "version": 3
   },
   "file_extension": ".py",
   "mimetype": "text/x-python",
   "name": "python",
   "nbconvert_exporter": "python",
   "pygments_lexer": "ipython3",
   "version": "3.10.9"
  }
 },
 "nbformat": 4,
 "nbformat_minor": 2
}
