{
 "cells": [
  {
   "cell_type": "markdown",
   "id": "f5465dc0-ccd5-4723-8e04-1f4e5e42a536",
   "metadata": {
    "jp-MarkdownHeadingCollapsed": true
   },
   "source": [
    "### 1. 라이브러리, 데이터, 세션"
   ]
  },
  {
   "cell_type": "code",
   "execution_count": 1,
   "id": "e01b55d7-f8aa-41c7-b908-aa342aa425fb",
   "metadata": {},
   "outputs": [
    {
     "data": {
      "text/plain": [
       "Intitializing Scala interpreter ..."
      ]
     },
     "metadata": {},
     "output_type": "display_data"
    },
    {
     "data": {
      "text/plain": [
       "Spark Web UI available at http://218.38.137.27:4040\n",
       "SparkContext available as 'sc' (version = 3.5.0, master = local[*], app id = local-1700732583806)\n",
       "SparkSession available as 'spark'\n"
      ]
     },
     "metadata": {},
     "output_type": "display_data"
    },
    {
     "data": {
      "text/plain": [
       "import org.apache.spark.sql.{SparkSession, DataFrame}\n",
       "import org.apache.spark.sql.types.{StructType, StructField, StringType, IntegerType, BooleanType}\n",
       "import org.apache.spark.sql.functions.{col, regexp_replace, explode, split, length}\n",
       "import org.apache.spark.sql.Row\n",
       "import spark.implicits._\n"
      ]
     },
     "execution_count": 1,
     "metadata": {},
     "output_type": "execute_result"
    }
   ],
   "source": [
    "import org.apache.spark.sql.{SparkSession, DataFrame}\n",
    "import org.apache.spark.sql.types.{StructType, StructField, StringType, IntegerType, BooleanType}\n",
    "import org.apache.spark.sql.functions.{col, regexp_replace, explode, split, length}\n",
    "import org.apache.spark.sql.Row\n",
    "import spark.implicits._"
   ]
  },
  {
   "cell_type": "code",
   "execution_count": 2,
   "id": "79db5244-74a3-4d1b-919c-73b9ca16683b",
   "metadata": {},
   "outputs": [
    {
     "data": {
      "text/plain": [
       "spark: org.apache.spark.sql.SparkSession = org.apache.spark.sql.SparkSession@3c583d86\n"
      ]
     },
     "execution_count": 2,
     "metadata": {},
     "output_type": "execute_result"
    }
   ],
   "source": [
    "val spark = SparkSession.builder.appName(\"spark-scala-test\").getOrCreate()"
   ]
  },
  {
   "cell_type": "code",
   "execution_count": 3,
   "id": "b51821a8-647a-44f0-b77b-438090788b4d",
   "metadata": {},
   "outputs": [
    {
     "data": {
      "text/plain": [
       "dir_path: String = /Users/b06/Desktop/yeardream/medi-05/data/naverplace_meta\n",
       "json_path: String = /naverplace_meta_1.json\n",
       "path: String = /Users/b06/Desktop/yeardream/medi-05/data/naverplace_meta/naverplace_meta_1.json\n",
       "data: org.apache.spark.sql.DataFrame = [BaseNaverBlog:betbetter: struct<__typename: string, categoryNo: string ... 1 more field>, BaseNaverBlog:bondiolsc: struct<__typename: string, categoryNo: string ... 1 more field> ... 469 more fields]\n"
      ]
     },
     "execution_count": 3,
     "metadata": {},
     "output_type": "execute_result"
    }
   ],
   "source": [
    "val dir_path = \"/Users/b06/Desktop/yeardream/medi-05/data/naverplace_meta\"\n",
    "val json_path = \"/naverplace_meta_1.json\"\n",
    "val path = dir_path + json_path\n",
    "val data = spark.read.option(\"multiline\", \"true\").format(\"json\").load(path)"
   ]
  },
  {
   "cell_type": "markdown",
   "id": "8b3d46bc-4db2-4c7c-a34c-cc6349bd77dd",
   "metadata": {
    "jp-MarkdownHeadingCollapsed": true
   },
   "source": [
    "### 2. 전역 변수"
   ]
  },
  {
   "cell_type": "code",
   "execution_count": 4,
   "id": "35dbbdc0-49da-4611-93c7-a42015d6bde9",
   "metadata": {},
   "outputs": [
    {
     "data": {
      "text/plain": [
       "columns: Array[String] = Array(BaseNaverBlog:betbetter, BaseNaverBlog:bondiolsc, BaseNaverBlog:dainhani, BaseNaverBlog:kundaeclinic, BaseNaverBlog:memeetsworld, BaseNaverBlog:orot-hani, BaseNaverBlog:zzz0501, BusStation:104073, BusStation:104091, BusStation:104094, BusStation:104132, BusStation:104140, BusStation:104154, BusStation:104158, BusStation:104172, BusStation:104181, BusStation:104212, BusStation:104222, BusStation:104231, BusStation:104321, BusStation:104386, BusStation:104395, BusStation:104428, BusStation:104440, BusStation:104459, BusStation:104500, BusStation:104507, BusStation:104517, BusStation:104532, BusStation:104544, BusStation:104554, BusStation:104573, BusStation:104576, BusStation:104578, BusStation:104580, BusStation:104582, BusStation:104594, BusStation:104598,...\n"
      ]
     },
     "execution_count": 4,
     "metadata": {},
     "output_type": "execute_result"
    }
   ],
   "source": [
    "val columns = data.columns\n",
    "\n",
    "val hospitalBases = columns.filter(_.contains(\"HospitalBase\"))\n",
    "\n",
    "val targetColumns = Seq(\n",
    "  \"id\",\n",
    "  \"name\", \n",
    "  \"road\", \n",
    "  \"reviewSettings\", \n",
    "  \"conveniences\", \n",
    "  \"keywords\", \n",
    "  \"phone\", \n",
    "  \"virtualPhone\", \n",
    "  \"naverBookingUrl\", \n",
    "  \"talktalkUrl\", \n",
    "  \"paymentInfo\", \n",
    "  \"homepages\",\n",
    "  \"visitorReviewsTotal\",\n",
    "  \"description\",\n",
    "  \"Images\"\n",
    ")\n",
    "\n",
    "val stringColumns = Seq(\n",
    "  \"id\",\n",
    "  \"name\", \n",
    "  \"road\",\n",
    "  \"phone\",\n",
    "  \"virtualPhone\",\n",
    "  \"naverBookingUrl\",\n",
    "  \"talktalkUrl\",\n",
    "  \"visitorReviewsTotal\"\n",
    ")\n",
    "\n",
    "val descriptionColumns: Seq[String] = Seq(\n",
    "  \"id\",\n",
    "  \"description\"\n",
    ")\n",
    "\n",
    "val structColumns: Seq[String] = Seq(\n",
    "  \"id\",\n",
    "  \"reviewSettings\",\n",
    "  \"homepages\"\n",
    ")\n",
    "\n",
    "val reviewKeywordColumns: Seq[String] = Seq(\n",
    "  \"id\",\n",
    "  \"reviewSettings.keyword\"\n",
    ")\n",
    "\n",
    "val homepagesColumns: Seq[String] = Seq(\n",
    "  \"id\",\n",
    "  \"homepages.repr.url\",\n",
    "  \"homepages.repr.type\",\n",
    "  \"homepages.repr.isDeadUrl\",\n",
    "  \"homepages.repr.landingUrl\"\n",
    ")\n",
    "\n",
    "val conveniencesColumns: Seq[String] = Seq(\n",
    "  \"id\",\n",
    "  \"conveniences\"\n",
    ")\n",
    "\n",
    "val keywordsColumns: Seq[String] = Seq(\n",
    "  \"id\",\n",
    "  \"keywords\"\n",
    ")\n",
    "\n",
    "val paymentsColumns: Seq[String] = Seq(\n",
    "  \"id\",\n",
    "  \"paymentInfo\"\n",
    ")"
   ]
  },
  {
   "cell_type": "code",
   "execution_count": 5,
   "id": "fdeb9665-fe55-464d-b328-0d63e8ed24a4",
   "metadata": {},
   "outputs": [
    {
     "data": {
      "text/plain": [
       "stringColumnsSchema: org.apache.spark.sql.types.StructType = StructType(StructField(id,StringType,true),StructField(name,StringType,true),StructField(road,StringType,true),StructField(phone,StringType,true),StructField(virtualPhone,StringType,true),StructField(naverBookingUrl,StringType,true),StructField(talktalkUrl,StringType,true),StructField(visitorReviewsTotal,IntegerType,true))\n",
       "descriptionColumnsSchema: org.apache.spark.sql.types.StructType = StructType(StructField(id,StringType,true),StructField(description,StringType,true),StructField(description_length,IntegerType,true))\n",
       "reviewKeywordColumnsSchema: org.apache.spark.sql.types.StructType = StructType(StructField(id,StringType,true),StructField(review_keyword,StringType,true))\n",
       "homepagesColumnsSchema: org.apache.spark.sql.types.Stru...\n"
      ]
     },
     "execution_count": 5,
     "metadata": {},
     "output_type": "execute_result"
    }
   ],
   "source": [
    "val stringColumnsSchema = StructType(Seq(\n",
    "  StructField(\"id\", StringType, true),\n",
    "  StructField(\"name\", StringType, true),\n",
    "  StructField(\"road\", StringType, true),\n",
    "  StructField(\"phone\", StringType, true),\n",
    "  StructField(\"virtualPhone\", StringType, true),\n",
    "  StructField(\"naverBookingUrl\", StringType, true),\n",
    "  StructField(\"talktalkUrl\", StringType, true),\n",
    "  StructField(\"visitorReviewsTotal\", IntegerType, true)\n",
    "))\n",
    "\n",
    "val descriptionColumnsSchema = StructType(Seq(\n",
    "  StructField(\"id\", StringType, true),\n",
    "  StructField(\"description\", StringType, true),\n",
    "  StructField(\"description_length\", IntegerType, true)\n",
    "))\n",
    "\n",
    "val reviewKeywordColumnsSchema = StructType(Seq(\n",
    "  StructField(\"id\", StringType, true),\n",
    "  StructField(\"review_keyword\", StringType, true)\n",
    "))\n",
    "\n",
    "val homepagesColumnsSchema = StructType(Seq(\n",
    "  StructField(\"id\", StringType, true),\n",
    "  StructField(\"url\", StringType, true),\n",
    "  StructField(\"type\", StringType, true),\n",
    "  StructField(\"isDeadUrl\", BooleanType, true),\n",
    "  StructField(\"landingUrl\", StringType, true)\n",
    "))\n",
    "\n",
    "val conveniencesColumnsSchema = StructType(Seq(\n",
    "  StructField(\"id\", StringType, true),\n",
    "  StructField(\"conveniences\", StringType, true)\n",
    "))\n",
    "\n",
    "val keywordsColumnsSchema = StructType(Seq(\n",
    "  StructField(\"id\", StringType, true),\n",
    "  StructField(\"keywords\", StringType, true)\n",
    "))\n",
    "\n",
    "val paymentsColumnsSchema = StructType(Seq(\n",
    "  StructField(\"id\", StringType, true),\n",
    "  StructField(\"payments\", StringType, true)\n",
    "))\n",
    "\n",
    "// 빈 데이터프레임 생성\n",
    "var stringTable: DataFrame = spark.createDataFrame(spark.sparkContext.emptyRDD[Row], stringColumnsSchema)\n",
    "var descriptionTable: DataFrame = spark.createDataFrame(spark.sparkContext.emptyRDD[Row], descriptionColumnsSchema)\n",
    "var reviewKeywordTable: DataFrame = spark.createDataFrame(spark.sparkContext.emptyRDD[Row], reviewKeywordColumnsSchema)\n",
    "var homepagesTable: DataFrame = spark.createDataFrame(spark.sparkContext.emptyRDD[Row], homepagesColumnsSchema)\n",
    "var conveniencesTable: DataFrame = spark.createDataFrame(spark.sparkContext.emptyRDD[Row], conveniencesColumnsSchema)\n",
    "var keywordsTable: DataFrame = spark.createDataFrame(spark.sparkContext.emptyRDD[Row], keywordsColumnsSchema)\n",
    "var paymentsTable: DataFrame = spark.createDataFrame(spark.sparkContext.emptyRDD[Row], paymentsColumnsSchema)"
   ]
  },
  {
   "cell_type": "markdown",
   "id": "4a7479e9-d85e-4411-a493-dcf8f132e198",
   "metadata": {
    "jp-MarkdownHeadingCollapsed": true
   },
   "source": [
    "### 3. 함수"
   ]
  },
  {
   "cell_type": "code",
   "execution_count": 6,
   "id": "6395122d-7539-4bab-a084-b7b380728cc7",
   "metadata": {},
   "outputs": [
    {
     "data": {
      "text/plain": [
       "getTable: (df: org.apache.spark.sql.DataFrame, columns: Seq[String], table: org.apache.spark.sql.DataFrame)org.apache.spark.sql.DataFrame\n",
       "getStringTable: (df: org.apache.spark.sql.DataFrame, columns: Seq[String], table: org.apache.spark.sql.DataFrame)org.apache.spark.sql.DataFrame\n",
       "removeNull: (df: org.apache.spark.sql.DataFrame)org.apache.spark.sql.DataFrame\n",
       "getDescriptionTable: (df: org.apache.spark.sql.DataFrame, columns: Seq[String], table: org.apache.spark.sql.DataFrame)org.apache.spark.sql.DataFrame\n",
       "preprocessingReviewKeyword: (reviewKeywordRow: org.apache.spark.sql.DataFrame)org.apache.spark.sql.DataFrame\n",
       "getReviewKeywordTable: (structDf: org.apache.spark.sql.DataFrame, reviewKeywordColumns: Seq[String], reviewKeywordTable: org.apache.spark.sql.DataFrame)org.apache.spark.sql.DataF...\n"
      ]
     },
     "execution_count": 6,
     "metadata": {},
     "output_type": "execute_result"
    }
   ],
   "source": [
    "def getTable(df: DataFrame, columns: Seq[String], table: DataFrame): DataFrame = {\n",
    "  val getColumns = df.select(columns.map(col): _*)\n",
    "  val row = removeNull(getColumns)\n",
    "  table.union(row)\n",
    "}\n",
    "\n",
    "def getStringTable(df: DataFrame, columns: Seq[String], table: DataFrame): DataFrame = {\n",
    "  val getColumns = df.select(columns.map(col): _*)\n",
    "  val row = removeNull(getColumns)\n",
    "    .withColumn(\"road\", regexp_replace(col(\"road\"), \"\\n\", \"\"))\n",
    "  table.union(row)\n",
    "}\n",
    "\n",
    "def removeNull(df: DataFrame): DataFrame = {\n",
    "  df.filter(col(\"name\").isNotNull)\n",
    "}\n",
    "\n",
    "def getDescriptionTable(df: DataFrame, columns: Seq[String], table: DataFrame): DataFrame = {\n",
    "  val cols = df.select(columns.map(col): _*)\n",
    "  val rows = removeNull(cols)\n",
    "    .withColumn(\"description\", regexp_replace(col(\"description\"), \"\\n\", \" \"))\n",
    "    .withColumn(\"description\", regexp_replace(col(\"description\"), \"\\r\", \" \"))\n",
    "    .withColumn(\"description\", regexp_replace(col(\"description\"), \"\\\\*\", \"\"))\n",
    "    .withColumn(\"description\", regexp_replace(col(\"description\"), \",\", \" \"))\n",
    "    .withColumn(\"description_length\", length(col(\"description\")))\n",
    "  table.union(rows)\n",
    "}\n",
    "\n",
    "def preprocessingReviewKeyword(reviewKeywordRow: DataFrame): DataFrame = {\n",
    "  reviewKeywordRow\n",
    "    .withColumnRenamed(\"keyword\", \"review_keyword\")\n",
    "    .withColumn(\"review_keyword\", explode(split(col(\"review_keyword\"), \", \")))\n",
    "}\n",
    "\n",
    "def getReviewKeywordTable(structDf: DataFrame, reviewKeywordColumns: Seq[String], reviewKeywordTable: DataFrame): DataFrame = {\n",
    "  val getReviewKeywordColumns = structDf.select(reviewKeywordColumns.map(col): _*)\n",
    "  val reviewKeywordRow = removeNull(getReviewKeywordColumns)\n",
    "  val processedReviewKeywordRow = preprocessingReviewKeyword(reviewKeywordRow)\n",
    "  reviewKeywordTable.union(processedReviewKeywordRow)\n",
    "}\n",
    "\n",
    "def checkNull(df: DataFrame, column: String): Boolean = {\n",
    "  val cnt = df.filter(col(column).isNull).count()\n",
    "  cnt == 25\n",
    "}\n",
    "\n",
    "def getHomepagesTable(structDf: DataFrame, homepagesColumns: Seq[String], homepagesTable: DataFrame): DataFrame = {\n",
    "  if (checkNull(structDf, \"homepages.repr\")) {\n",
    "    homepagesTable\n",
    "  } else {\n",
    "    getTable(structDf, homepagesColumns, homepagesTable)\n",
    "  }\n",
    "}\n",
    "\n",
    "def getTableAndExplode(df: DataFrame, columns: Seq[String], table: DataFrame, column: String): DataFrame = {\n",
    "  if (checkNull(df, column)) {\n",
    "    table\n",
    "  } else {\n",
    "    val getColumns = df.select(columns.map(col): _*)\n",
    "    val row = removeNull(getColumns)\n",
    "    val rows = row.withColumn(column, explode(row(column)))\n",
    "    table.union(rows)\n",
    "  }\n",
    "}\n",
    "\n",
    "def saveToParquet(df: DataFrame, name: String): Unit = {\n",
    "  val base_path = \"/Users/b06/Desktop/yeardream/medi-05/data/output/\"\n",
    "  val path = base_path + name\n",
    "  df.write.mode(\"append\").parquet(path)\n",
    "}"
   ]
  },
  {
   "cell_type": "markdown",
   "id": "27ae03e2-89e2-49f4-a7f4-ecd57a15fc33",
   "metadata": {},
   "source": [
    "### 4. 데이터 전처리"
   ]
  },
  {
   "cell_type": "code",
   "execution_count": null,
   "id": "8d97672d-8ed9-4e7c-af21-a74d65db4962",
   "metadata": {},
   "outputs": [
    {
     "name": "stdout",
     "output_type": "stream",
     "text": [
      "1\n",
      "2\n",
      "3\n",
      "4\n",
      "1\n",
      "2\n",
      "3\n",
      "4\n",
      "1\n",
      "2\n",
      "3\n",
      "4\n",
      "1\n",
      "2\n",
      "3\n",
      "4\n",
      "1\n",
      "2\n",
      "3\n",
      "4\n",
      "1\n",
      "2\n",
      "3\n",
      "4\n",
      "1\n",
      "2\n",
      "3\n",
      "4\n",
      "1\n",
      "2\n",
      "3\n",
      "4\n",
      "1\n",
      "2\n",
      "3\n",
      "4\n",
      "1\n",
      "2\n",
      "3\n",
      "4\n",
      "1\n",
      "2\n",
      "3\n",
      "4\n",
      "1\n",
      "2\n",
      "3\n",
      "4\n",
      "1\n",
      "2\n",
      "3\n",
      "4\n",
      "1\n",
      "2\n",
      "3\n",
      "4\n",
      "1\n",
      "2\n",
      "3\n",
      "4\n",
      "1\n",
      "2\n",
      "3\n",
      "4\n",
      "1\n",
      "2\n",
      "3\n",
      "4\n",
      "1\n",
      "2\n",
      "3\n",
      "4\n",
      "1\n",
      "2\n",
      "3\n",
      "4\n",
      "1\n",
      "2\n",
      "3\n",
      "4\n",
      "1\n",
      "2\n",
      "3\n",
      "4\n",
      "1\n",
      "2\n",
      "3\n",
      "4\n",
      "1\n",
      "2\n",
      "3\n",
      "4\n",
      "1\n",
      "2\n",
      "3\n",
      "4\n",
      "1\n",
      "2\n",
      "3\n",
      "4\n"
     ]
    }
   ],
   "source": [
    "hospitalBases.foreach { hospitalBase =>\n",
    "    val hospitalBaseData = data.select(hospitalBase)\n",
    "    val getColumns = targetColumns.map(t => col(s\"$hospitalBase.$t\").alias(t))\n",
    "    val df = hospitalBaseData.select(getColumns: _*)\n",
    "    val structDf = df.select(structColumns.map(col): _*)\n",
    "\n",
    "    stringTable = getTable(df, stringColumns, stringTable)\n",
    "    descriptionTable = getDescriptionTable(df, descriptionColumns, descriptionTable)\n",
    "    reviewKeywordTable = getReviewKeywordTable(structDf, reviewKeywordColumns, reviewKeywordTable)\n",
    "    // println(4)\n",
    "    // homepagesTable = getHomepagesTable(structDf, homepagesColumns, homepagesTable)\n",
    "    // println(5)\n",
    "    // conveniencesTable = getTableAndExplode(df, conveniencesColumns, conveniencesTable, \"conveniences\")\n",
    "    // println(6)\n",
    "    // keywordsTable = getTableAndExplode(df, keywordsColumns, keywordsTable, \"keywords\")\n",
    "    // println(7)\n",
    "    // paymentsTable = getTableAndExplode(df, paymentsColumns, paymentsTable, \"paymentInfo\")\n",
    "}"
   ]
  },
  {
   "cell_type": "code",
   "execution_count": null,
   "id": "8b49ef8a-24f8-4d49-996c-f5bbb469ec77",
   "metadata": {},
   "outputs": [],
   "source": [
    "stringTable.show(10)\n",
    "descriptionTable.show(10)\n",
    "reviewKeywordTable.show(10)"
   ]
  },
  {
   "cell_type": "code",
   "execution_count": null,
   "id": "253ef732-d090-46b4-8cba-d49bceefa2d4",
   "metadata": {},
   "outputs": [],
   "source": [
    "// 데이터 저장\n",
    "saveToParquet(stringTable, \"string_table\")\n",
    "saveToParquet(descriptionTable, \"description_table\")\n",
    "saveToParquet(reviewKeywordTable, \"review_keyword_table\")\n",
    "saveToParquet(homepagesTable, \"homepages_table\")\n",
    "saveToParquet(conveniencesTable, \"conveniences_table\")\n",
    "saveToParquet(keywordsTable, \"keywords_table\")\n",
    "saveToParquet(paymentsTable, \"payments_table\")"
   ]
  }
 ],
 "metadata": {
  "kernelspec": {
   "display_name": "spylon-kernel",
   "language": "scala",
   "name": "spylon-kernel"
  },
  "language_info": {
   "codemirror_mode": "text/x-scala",
   "file_extension": ".scala",
   "help_links": [
    {
     "text": "MetaKernel Magics",
     "url": "https://metakernel.readthedocs.io/en/latest/source/README.html"
    }
   ],
   "mimetype": "text/x-scala",
   "name": "scala",
   "pygments_lexer": "scala",
   "version": "0.4.1"
  }
 },
 "nbformat": 4,
 "nbformat_minor": 5
}
