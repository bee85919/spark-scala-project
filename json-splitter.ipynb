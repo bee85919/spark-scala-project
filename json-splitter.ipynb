{
 "cells": [
  {
   "cell_type": "code",
   "execution_count": 1,
   "metadata": {},
   "outputs": [],
   "source": [
    "### load libraries\n",
    "import os\n",
    "import shutil\n",
    "import json"
   ]
  },
  {
   "cell_type": "code",
   "execution_count": 2,
   "metadata": {},
   "outputs": [],
   "source": [
    "### input\n",
    "size = 1000\n",
    "json_path = '/Users/b06/Desktop/yeardream/medi-05/data/naverplace_meta.json'\n",
    "save_dir = '/Users/b06/Desktop/yeardream/medi-05/data/naverplace_meta'"
   ]
  },
  {
   "cell_type": "code",
   "execution_count": 3,
   "metadata": {},
   "outputs": [],
   "source": [
    "### manage save_dir\n",
    "if os.path.exists(save_dir):\n",
    "    shutil.rmtree(save_dir)\n",
    "os.makedirs(save_dir)"
   ]
  },
  {
   "cell_type": "code",
   "execution_count": 4,
   "metadata": {},
   "outputs": [
    {
     "name": "stdout",
     "output_type": "stream",
     "text": [
      "Load /Users/b06/Desktop/yeardream/medi-05/data/naverplace_meta.json\n"
     ]
    }
   ],
   "source": [
    "### load json\n",
    "with open(json_path) as f:\n",
    "    json_file = json.load(f)\n",
    "    print(f\"Load {json_path}\")"
   ]
  },
  {
   "cell_type": "code",
   "execution_count": 5,
   "metadata": {},
   "outputs": [],
   "source": [
    "### splitted json generator\n",
    "def generate_json(json_list):\n",
    "    def h_get(key): return h_item.get(key, None)\n",
    "    json_dict = {'root': [], 'hospital': []}\n",
    "    for item in json_list:\n",
    "        for key, value in item.items():\n",
    "            if key == \"ROOT_QUERY\":\n",
    "                for k, v in value.items():\n",
    "                    if k == 'hospital':\n",
    "                        r_dict = {\n",
    "                            k : v\n",
    "                        }\n",
    "                json_dict['root'].append(r_dict)\n",
    "            elif key.startswith(\"HospitalBase:\"):\n",
    "                h_item = item[key]\n",
    "                h_dict = {\n",
    "                    'id' : h_get('id'),\n",
    "                    'name' : h_get('name'),\n",
    "                    'category' : h_get('category'),\n",
    "                    'category_code' : h_get('categoryCode'),\n",
    "                    'category_code_list' : h_get('categoryCodeList'),\n",
    "                    'category_count' : h_get('categoryCount'),\n",
    "                    'description' : h_get('description'),\n",
    "                    'road_address' : h_get('roadAddress'),\n",
    "                    'road' : h_get('road'),\n",
    "                    'rcode' : h_get('rcode'),\n",
    "                    'virtual_phone' : h_get('virtualPhone'),\n",
    "                    'phone' : h_get('phone'),\n",
    "                    'payment_info' : h_get('paymentInfo'),\n",
    "                    'conveniences' : h_get('conveniences'),\n",
    "                    'review_setting' : h_get('reviewSettings'),\n",
    "                    'keywords' : h_get('keywords'),\n",
    "                    'booking_business_id' : h_get('bookingBusinessId'),\n",
    "                    'booking_display_name' : h_get('bookingDisplayName'),\n",
    "                    'visitor_reviews_score' : h_get('visitorReviewsScore'),\n",
    "                    'visitor_reviews_total' : h_get('visitorReviewsTotal'),\n",
    "                    'visitor_reviews_text_review_total' : h_get('visitorReviewsTextReviewTotal'),\n",
    "                    'images' : h_get('images'),\n",
    "                    'homepages' : h_get('homepages'),\n",
    "                    'booking_url' : h_get('naverBookingUrl'),\n",
    "                    'talktalk_url' : h_get('talktalkUrl'),\n",
    "                    'coordinate' : h_get('coordinate'),\n",
    "                }\n",
    "                json_dict['hospital'].append(h_dict)\n",
    "    return json_dict"
   ]
  },
  {
   "cell_type": "code",
   "execution_count": 6,
   "metadata": {},
   "outputs": [
    {
     "name": "stdout",
     "output_type": "stream",
     "text": [
      "Save /Users/b06/Desktop/yeardream/medi-05/data/naverplace_meta/naverplace_meta_1.json\n",
      "Save /Users/b06/Desktop/yeardream/medi-05/data/naverplace_meta/naverplace_meta_2.json\n",
      "Save /Users/b06/Desktop/yeardream/medi-05/data/naverplace_meta/naverplace_meta_3.json\n",
      "Save /Users/b06/Desktop/yeardream/medi-05/data/naverplace_meta/naverplace_meta_4.json\n",
      "Save /Users/b06/Desktop/yeardream/medi-05/data/naverplace_meta/naverplace_meta_5.json\n",
      "Save /Users/b06/Desktop/yeardream/medi-05/data/naverplace_meta/naverplace_meta_6.json\n",
      "Save /Users/b06/Desktop/yeardream/medi-05/data/naverplace_meta/naverplace_meta_7.json\n",
      "Save /Users/b06/Desktop/yeardream/medi-05/data/naverplace_meta/naverplace_meta_8.json\n",
      "Save /Users/b06/Desktop/yeardream/medi-05/data/naverplace_meta/naverplace_meta_9.json\n",
      "Save /Users/b06/Desktop/yeardream/medi-05/data/naverplace_meta/naverplace_meta_10.json\n",
      "Save /Users/b06/Desktop/yeardream/medi-05/data/naverplace_meta/naverplace_meta_11.json\n",
      "Save /Users/b06/Desktop/yeardream/medi-05/data/naverplace_meta/naverplace_meta_12.json\n",
      "Save /Users/b06/Desktop/yeardream/medi-05/data/naverplace_meta/naverplace_meta_13.json\n",
      "Save /Users/b06/Desktop/yeardream/medi-05/data/naverplace_meta/naverplace_meta_14.json\n",
      "Save /Users/b06/Desktop/yeardream/medi-05/data/naverplace_meta/naverplace_meta_15.json\n",
      "Save /Users/b06/Desktop/yeardream/medi-05/data/naverplace_meta/naverplace_meta_16.json\n",
      "Save /Users/b06/Desktop/yeardream/medi-05/data/naverplace_meta/naverplace_meta_17.json\n",
      "Save /Users/b06/Desktop/yeardream/medi-05/data/naverplace_meta/naverplace_meta_18.json\n"
     ]
    }
   ],
   "source": [
    "### save splitted json_dict\n",
    "for i in range(0, len(json_file), size):\n",
    "    idx = (i//size)+1\n",
    "    save_path = f\"{save_dir}/naverplace_meta_{idx}.json\"\n",
    "    json_list = json_file[i:(i+size)+1]\n",
    "    json_dict = generate_json(json_list)\n",
    "    with open(save_path, 'w') as f:\n",
    "        json.dump(json_dict, f, ensure_ascii=False)\n",
    "        print(f\"Save {save_path}\")"
   ]
  }
 ],
 "metadata": {
  "kernelspec": {
   "display_name": "Python 3 (ipykernel)",
   "language": "python",
   "name": "python3"
  },
  "language_info": {
   "codemirror_mode": {
    "name": "ipython",
    "version": 3
   },
   "file_extension": ".py",
   "mimetype": "text/x-python",
   "name": "python",
   "nbconvert_exporter": "python",
   "pygments_lexer": "ipython3",
   "version": "3.11.6"
  }
 },
 "nbformat": 4,
 "nbformat_minor": 4
}
