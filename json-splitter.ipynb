{
 "cells": [
  {
   "cell_type": "code",
   "execution_count": 1,
   "metadata": {},
   "outputs": [],
   "source": [
    "### load libraries\n",
    "import os\n",
    "import shutil\n",
    "import json"
   ]
  },
  {
   "cell_type": "code",
   "execution_count": 2,
   "metadata": {},
   "outputs": [],
   "source": [
    "### input\n",
    "size = 250\n",
    "json_path = '/Users/b06/Desktop/yeardream/medi-05/data/naverplace_meta.json'\n",
    "save_dir = '/Users/b06/Desktop/yeardream/medi-05/data/naverplace_meta'"
   ]
  },
  {
   "cell_type": "code",
   "execution_count": 3,
   "metadata": {},
   "outputs": [],
   "source": [
    "### manage save_dir\n",
    "if os.path.exists(save_dir):\n",
    "    shutil.rmtree(save_dir)\n",
    "os.makedirs(save_dir)"
   ]
  },
  {
   "cell_type": "code",
   "execution_count": 4,
   "metadata": {},
   "outputs": [
    {
     "name": "stdout",
     "output_type": "stream",
     "text": [
      "Load /Users/b06/Desktop/yeardream/medi-05/data/naverplace_meta.json\n"
     ]
    }
   ],
   "source": [
    "### load json\n",
    "with open(json_path) as f:\n",
    "    json_file = json.load(f)\n",
    "    print(f\"Load {json_path}\")"
   ]
  },
  {
   "cell_type": "code",
   "execution_count": 5,
   "metadata": {},
   "outputs": [],
   "source": [
    "### splitted json generator\n",
    "def generate_json(json_list):\n",
    "    json_dict = {'Panorama': [], 'Hospital': []}\n",
    "    for item in json_list:\n",
    "        for key, value in item.items():\n",
    "            if key.startswith(\"ROOT_QUERY\"):\n",
    "                json_dict['ROOT_QUERY'].append(value)\n",
    "            elif key.startswith(\"HospitalBase:\"):\n",
    "                json_dict['Hospital'].append(value)\n",
    "    return json_dict"
   ]
  },
  {
   "cell_type": "code",
   "execution_count": 6,
   "metadata": {},
   "outputs": [
    {
     "ename": "KeyError",
     "evalue": "'ROOT_QUERY'",
     "output_type": "error",
     "traceback": [
      "\u001b[0;31m---------------------------------------------------------------------------\u001b[0m",
      "\u001b[0;31mKeyError\u001b[0m                                  Traceback (most recent call last)",
      "\u001b[1;32m/Users/b06/Desktop/yeardream/medi-05/spark-scala-project/json-splitter.ipynb Cell 6\u001b[0m line \u001b[0;36m6\n\u001b[1;32m      <a href='vscode-notebook-cell:/Users/b06/Desktop/yeardream/medi-05/spark-scala-project/json-splitter.ipynb#W5sZmlsZQ%3D%3D?line=3'>4</a>\u001b[0m save_path \u001b[39m=\u001b[39m \u001b[39mf\u001b[39m\u001b[39m\"\u001b[39m\u001b[39m{\u001b[39;00msave_dir\u001b[39m}\u001b[39;00m\u001b[39m/naverplace_meta_\u001b[39m\u001b[39m{\u001b[39;00midx\u001b[39m}\u001b[39;00m\u001b[39m.json\u001b[39m\u001b[39m\"\u001b[39m\n\u001b[1;32m      <a href='vscode-notebook-cell:/Users/b06/Desktop/yeardream/medi-05/spark-scala-project/json-splitter.ipynb#W5sZmlsZQ%3D%3D?line=4'>5</a>\u001b[0m json_list \u001b[39m=\u001b[39m json_file[i:(i \u001b[39m+\u001b[39m size)]\n\u001b[0;32m----> <a href='vscode-notebook-cell:/Users/b06/Desktop/yeardream/medi-05/spark-scala-project/json-splitter.ipynb#W5sZmlsZQ%3D%3D?line=5'>6</a>\u001b[0m json_dict \u001b[39m=\u001b[39m generate_json(json_list)\n\u001b[1;32m      <a href='vscode-notebook-cell:/Users/b06/Desktop/yeardream/medi-05/spark-scala-project/json-splitter.ipynb#W5sZmlsZQ%3D%3D?line=6'>7</a>\u001b[0m \u001b[39mwith\u001b[39;00m \u001b[39mopen\u001b[39m(save_path, \u001b[39m'\u001b[39m\u001b[39mw\u001b[39m\u001b[39m'\u001b[39m) \u001b[39mas\u001b[39;00m f:\n\u001b[1;32m      <a href='vscode-notebook-cell:/Users/b06/Desktop/yeardream/medi-05/spark-scala-project/json-splitter.ipynb#W5sZmlsZQ%3D%3D?line=7'>8</a>\u001b[0m     json\u001b[39m.\u001b[39mdump(json_dict, f, ensure_ascii\u001b[39m=\u001b[39m\u001b[39mFalse\u001b[39;00m)\n",
      "\u001b[1;32m/Users/b06/Desktop/yeardream/medi-05/spark-scala-project/json-splitter.ipynb Cell 6\u001b[0m line \u001b[0;36m7\n\u001b[1;32m      <a href='vscode-notebook-cell:/Users/b06/Desktop/yeardream/medi-05/spark-scala-project/json-splitter.ipynb#W5sZmlsZQ%3D%3D?line=4'>5</a>\u001b[0m \u001b[39mfor\u001b[39;00m key, value \u001b[39min\u001b[39;00m item\u001b[39m.\u001b[39mitems():\n\u001b[1;32m      <a href='vscode-notebook-cell:/Users/b06/Desktop/yeardream/medi-05/spark-scala-project/json-splitter.ipynb#W5sZmlsZQ%3D%3D?line=5'>6</a>\u001b[0m     \u001b[39mif\u001b[39;00m key\u001b[39m.\u001b[39mstartswith(\u001b[39m\"\u001b[39m\u001b[39mROOT_QUERY\u001b[39m\u001b[39m\"\u001b[39m):\n\u001b[0;32m----> <a href='vscode-notebook-cell:/Users/b06/Desktop/yeardream/medi-05/spark-scala-project/json-splitter.ipynb#W5sZmlsZQ%3D%3D?line=6'>7</a>\u001b[0m         json_dict[\u001b[39m'\u001b[39;49m\u001b[39mROOT_QUERY\u001b[39;49m\u001b[39m'\u001b[39;49m]\u001b[39m.\u001b[39mappend(value)\n\u001b[1;32m      <a href='vscode-notebook-cell:/Users/b06/Desktop/yeardream/medi-05/spark-scala-project/json-splitter.ipynb#W5sZmlsZQ%3D%3D?line=7'>8</a>\u001b[0m     \u001b[39melif\u001b[39;00m key\u001b[39m.\u001b[39mstartswith(\u001b[39m\"\u001b[39m\u001b[39mHospitalBase:\u001b[39m\u001b[39m\"\u001b[39m):\n\u001b[1;32m      <a href='vscode-notebook-cell:/Users/b06/Desktop/yeardream/medi-05/spark-scala-project/json-splitter.ipynb#W5sZmlsZQ%3D%3D?line=8'>9</a>\u001b[0m         json_dict[\u001b[39m'\u001b[39m\u001b[39mHospital\u001b[39m\u001b[39m'\u001b[39m]\u001b[39m.\u001b[39mappend(value)\n",
      "\u001b[0;31mKeyError\u001b[0m: 'ROOT_QUERY'"
     ]
    }
   ],
   "source": [
    "### save splitted json_dict\n",
    "for i in range(0, len(json_file), size):\n",
    "    idx = (i//size) + 1\n",
    "    save_path = f\"{save_dir}/naverplace_meta_{idx}.json\"\n",
    "    json_list = json_file[i:(i + size)]\n",
    "    json_dict = generate_json(json_list)\n",
    "    with open(save_path, 'w') as f:\n",
    "        json.dump(json_dict, f, ensure_ascii=False)\n",
    "        print(f\"Save {save_path}\")"
   ]
  },
  {
   "cell_type": "code",
   "execution_count": null,
   "metadata": {},
   "outputs": [],
   "source": []
  }
 ],
 "metadata": {
  "kernelspec": {
   "display_name": "Python 3 (ipykernel)",
   "language": "python",
   "name": "python3"
  },
  "language_info": {
   "codemirror_mode": {
    "name": "ipython",
    "version": 3
   },
   "file_extension": ".py",
   "mimetype": "text/x-python",
   "name": "python",
   "nbconvert_exporter": "python",
   "pygments_lexer": "ipython3",
   "version": "3.11.6"
  }
 },
 "nbformat": 4,
 "nbformat_minor": 4
}
