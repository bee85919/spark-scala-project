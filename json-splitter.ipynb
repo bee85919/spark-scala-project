{
 "cells": [
  {
   "cell_type": "code",
   "execution_count": 1,
   "metadata": {},
   "outputs": [],
   "source": [
    "### load libraries\n",
    "import os\n",
    "import shutil\n",
    "import json"
   ]
  },
  {
   "cell_type": "code",
   "execution_count": 2,
   "metadata": {},
   "outputs": [],
   "source": [
    "### input\n",
    "size = 250\n",
    "json_path = '/Users/b06/Desktop/yeardream/medi-05/data/naverplace_meta.json'\n",
    "save_dir = '/Users/b06/Desktop/yeardream/medi-05/data/naverplace_meta'"
   ]
  },
  {
   "cell_type": "code",
   "execution_count": 3,
   "metadata": {},
   "outputs": [],
   "source": [
    "### manage save_dir\n",
    "if os.path.exists(save_dir):\n",
    "    shutil.rmtree(save_dir)\n",
    "os.makedirs(save_dir)"
   ]
  },
  {
   "cell_type": "code",
   "execution_count": null,
   "metadata": {},
   "outputs": [],
   "source": [
    "### load json\n",
    "with open(json_path) as f:\n",
    "    json_file = json.load(f)\n",
    "    print(f\"Load {json_path}\")"
   ]
  },
  {
   "cell_type": "code",
   "execution_count": null,
   "metadata": {},
   "outputs": [],
   "source": [
    "### splitted json generator\n",
    "def generate_json(json_list):\n",
    "    json_dict = {'root': [], 'hospital': []}\n",
    "    for item in json_list:\n",
    "        for key, value in item.items():\n",
    "            if key == \"ROOT_QUERY\":\n",
    "                r_items = value\n",
    "                for k, v in r_items.items():\n",
    "                    if k == \"hospital\":\n",
    "                        json_dict['root'].append(v)\n",
    "            elif key.startswith(\"HospitalBase:\"):\n",
    "                json_dict['hospital'].append(value)\n",
    "    return json_dict"
   ]
  },
  {
   "cell_type": "code",
   "execution_count": null,
   "metadata": {},
   "outputs": [],
   "source": [
    "### save splitted json_dict\n",
    "for i in range(0, len(json_file), size):\n",
    "    idx = (i//size) + 1\n",
    "    save_path = f\"{save_dir}/naverplace_meta_{idx}.json\"\n",
    "    json_list = json_file[i:(i + size)]\n",
    "    json_dict = generate_json(json_list)\n",
    "    with open(save_path, 'w') as f:\n",
    "        json.dump(json_dict, f, ensure_ascii=False)\n",
    "        print(f\"Save {save_path}\")"
   ]
  },
  {
   "cell_type": "code",
   "execution_count": null,
   "metadata": {},
   "outputs": [],
   "source": []
  }
 ],
 "metadata": {
  "kernelspec": {
   "display_name": "Python 3 (ipykernel)",
   "language": "python",
   "name": "python3"
  },
  "language_info": {
   "codemirror_mode": {
    "name": "ipython",
    "version": 3
   },
   "file_extension": ".py",
   "mimetype": "text/x-python",
   "name": "python",
   "nbconvert_exporter": "python",
   "pygments_lexer": "ipython3",
   "version": "3.11.6"
  }
 },
 "nbformat": 4,
 "nbformat_minor": 4
}
